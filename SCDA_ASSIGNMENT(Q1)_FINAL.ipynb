{
 "cells": [
  {
   "cell_type": "markdown",
   "id": "cb422918",
   "metadata": {},
   "source": [
    "# Suicide Rate Analysis"
   ]
  },
  {
   "cell_type": "code",
   "execution_count": 86,
   "id": "d4033017",
   "metadata": {},
   "outputs": [],
   "source": [
    "# Importing Libraries\n",
    "import pandas as pd\n",
    "import numpy as np"
   ]
  },
  {
   "cell_type": "markdown",
   "id": "ef67b193",
   "metadata": {},
   "source": [
    "# Loading the data set"
   ]
  },
  {
   "cell_type": "code",
   "execution_count": 87,
   "id": "6462ddf0",
   "metadata": {},
   "outputs": [
    {
     "data": {
      "text/html": [
       "<div>\n",
       "<style scoped>\n",
       "    .dataframe tbody tr th:only-of-type {\n",
       "        vertical-align: middle;\n",
       "    }\n",
       "\n",
       "    .dataframe tbody tr th {\n",
       "        vertical-align: top;\n",
       "    }\n",
       "\n",
       "    .dataframe thead th {\n",
       "        text-align: right;\n",
       "    }\n",
       "</style>\n",
       "<table border=\"1\" class=\"dataframe\">\n",
       "  <thead>\n",
       "    <tr style=\"text-align: right;\">\n",
       "      <th></th>\n",
       "      <th>country</th>\n",
       "      <th>year</th>\n",
       "      <th>sex</th>\n",
       "      <th>age</th>\n",
       "      <th>suicides_no</th>\n",
       "      <th>population</th>\n",
       "      <th>gdp_for_year ($)</th>\n",
       "      <th>Unnamed: 7</th>\n",
       "      <th>Unnamed: 8</th>\n",
       "    </tr>\n",
       "  </thead>\n",
       "  <tbody>\n",
       "    <tr>\n",
       "      <th>0</th>\n",
       "      <td>Albania</td>\n",
       "      <td>1987</td>\n",
       "      <td>male</td>\n",
       "      <td>15-24 years</td>\n",
       "      <td>21</td>\n",
       "      <td>312900</td>\n",
       "      <td>2,156,624,900</td>\n",
       "      <td>NaN</td>\n",
       "      <td>NaN</td>\n",
       "    </tr>\n",
       "    <tr>\n",
       "      <th>1</th>\n",
       "      <td>Albania</td>\n",
       "      <td>1987</td>\n",
       "      <td>male</td>\n",
       "      <td>35-54 years</td>\n",
       "      <td>16</td>\n",
       "      <td>308000</td>\n",
       "      <td>2,156,624,900</td>\n",
       "      <td>NaN</td>\n",
       "      <td>NaN</td>\n",
       "    </tr>\n",
       "    <tr>\n",
       "      <th>2</th>\n",
       "      <td>Albania</td>\n",
       "      <td>1987</td>\n",
       "      <td>female</td>\n",
       "      <td>15-24 years</td>\n",
       "      <td>14</td>\n",
       "      <td>289700</td>\n",
       "      <td>2,156,624,900</td>\n",
       "      <td>NaN</td>\n",
       "      <td>NaN</td>\n",
       "    </tr>\n",
       "    <tr>\n",
       "      <th>3</th>\n",
       "      <td>Albania</td>\n",
       "      <td>1987</td>\n",
       "      <td>male</td>\n",
       "      <td>75+ years</td>\n",
       "      <td>1</td>\n",
       "      <td>21800</td>\n",
       "      <td>2,156,624,900</td>\n",
       "      <td>NaN</td>\n",
       "      <td>NaN</td>\n",
       "    </tr>\n",
       "    <tr>\n",
       "      <th>4</th>\n",
       "      <td>Albania</td>\n",
       "      <td>1987</td>\n",
       "      <td>male</td>\n",
       "      <td>25-34 years</td>\n",
       "      <td>9</td>\n",
       "      <td>274300</td>\n",
       "      <td>2,156,624,900</td>\n",
       "      <td>NaN</td>\n",
       "      <td>NaN</td>\n",
       "    </tr>\n",
       "    <tr>\n",
       "      <th>...</th>\n",
       "      <td>...</td>\n",
       "      <td>...</td>\n",
       "      <td>...</td>\n",
       "      <td>...</td>\n",
       "      <td>...</td>\n",
       "      <td>...</td>\n",
       "      <td>...</td>\n",
       "      <td>...</td>\n",
       "      <td>...</td>\n",
       "    </tr>\n",
       "    <tr>\n",
       "      <th>27835</th>\n",
       "      <td>Belgium</td>\n",
       "      <td>2011</td>\n",
       "      <td>female</td>\n",
       "      <td>25-34 years</td>\n",
       "      <td>6</td>\n",
       "      <td>707535</td>\n",
       "      <td>527,008,453,887</td>\n",
       "      <td>NaN</td>\n",
       "      <td>NaN</td>\n",
       "    </tr>\n",
       "    <tr>\n",
       "      <th>27836</th>\n",
       "      <td>Thailand</td>\n",
       "      <td>2016</td>\n",
       "      <td>male</td>\n",
       "      <td>75+ years</td>\n",
       "      <td>152</td>\n",
       "      <td>1124052</td>\n",
       "      <td>411,755,164,833</td>\n",
       "      <td>NaN</td>\n",
       "      <td>NaN</td>\n",
       "    </tr>\n",
       "    <tr>\n",
       "      <th>27837</th>\n",
       "      <td>Netherlands</td>\n",
       "      <td>1998</td>\n",
       "      <td>female</td>\n",
       "      <td>15-24 years</td>\n",
       "      <td>21</td>\n",
       "      <td>934500</td>\n",
       "      <td>432,476,116,419</td>\n",
       "      <td>NaN</td>\n",
       "      <td>NaN</td>\n",
       "    </tr>\n",
       "    <tr>\n",
       "      <th>27838</th>\n",
       "      <td>Grenada</td>\n",
       "      <td>2002</td>\n",
       "      <td>female</td>\n",
       "      <td>5-14 years</td>\n",
       "      <td>NaN</td>\n",
       "      <td>11760</td>\n",
       "      <td>540,336,926</td>\n",
       "      <td>NaN</td>\n",
       "      <td>NaN</td>\n",
       "    </tr>\n",
       "    <tr>\n",
       "      <th>27839</th>\n",
       "      <td>Mexico</td>\n",
       "      <td>1988</td>\n",
       "      <td>female</td>\n",
       "      <td>75+ years</td>\n",
       "      <td>7</td>\n",
       "      <td>614000</td>\n",
       "      <td>183,144,164,357</td>\n",
       "      <td>NaN</td>\n",
       "      <td>NaN</td>\n",
       "    </tr>\n",
       "  </tbody>\n",
       "</table>\n",
       "<p>27840 rows × 9 columns</p>\n",
       "</div>"
      ],
      "text/plain": [
       "           country  year     sex          age suicides_no  population  \\\n",
       "0          Albania  1987    male  15-24 years          21      312900   \n",
       "1          Albania  1987    male  35-54 years          16      308000   \n",
       "2          Albania  1987  female  15-24 years          14      289700   \n",
       "3          Albania  1987    male    75+ years           1       21800   \n",
       "4          Albania  1987    male  25-34 years           9      274300   \n",
       "...            ...   ...     ...          ...         ...         ...   \n",
       "27835      Belgium  2011  female  25-34 years           6      707535   \n",
       "27836     Thailand  2016    male    75+ years         152     1124052   \n",
       "27837  Netherlands  1998  female  15-24 years          21      934500   \n",
       "27838      Grenada  2002  female   5-14 years         NaN       11760   \n",
       "27839       Mexico  1988  female    75+ years           7      614000   \n",
       "\n",
       "       gdp_for_year ($)   Unnamed: 7 Unnamed: 8  \n",
       "0          2,156,624,900         NaN        NaN  \n",
       "1          2,156,624,900         NaN        NaN  \n",
       "2          2,156,624,900         NaN        NaN  \n",
       "3          2,156,624,900         NaN        NaN  \n",
       "4          2,156,624,900         NaN        NaN  \n",
       "...                  ...         ...        ...  \n",
       "27835    527,008,453,887         NaN        NaN  \n",
       "27836    411,755,164,833         NaN        NaN  \n",
       "27837    432,476,116,419         NaN        NaN  \n",
       "27838        540,336,926         NaN        NaN  \n",
       "27839    183,144,164,357         NaN        NaN  \n",
       "\n",
       "[27840 rows x 9 columns]"
      ]
     },
     "execution_count": 87,
     "metadata": {},
     "output_type": "execute_result"
    }
   ],
   "source": [
    "Suicide_Data = pd.read_csv(r\"/Users/aruna/Downloads/Assignments/SCDA/WHO_Suicide_Data.csv\")\n",
    "Suicide_Data"
   ]
  },
  {
   "cell_type": "markdown",
   "id": "1c2650de",
   "metadata": {},
   "source": [
    "# Cleaning the DataSet"
   ]
  },
  {
   "cell_type": "code",
   "execution_count": 88,
   "id": "813c0ce1",
   "metadata": {},
   "outputs": [
    {
     "data": {
      "text/plain": [
       "country                   0\n",
       "year                      0\n",
       "sex                       0\n",
       "age                       0\n",
       "suicides_no            4265\n",
       "population                0\n",
       " gdp_for_year ($)         0\n",
       "Unnamed: 7            27840\n",
       "Unnamed: 8            27838\n",
       "dtype: int64"
      ]
     },
     "execution_count": 88,
     "metadata": {},
     "output_type": "execute_result"
    }
   ],
   "source": [
    "#Checking for null values\n",
    "Suicide_Data.isnull().sum()"
   ]
  },
  {
   "cell_type": "markdown",
   "id": "620bdd27",
   "metadata": {},
   "source": [
    "''' From the above observation we found there are few errors in the column names. As a part of data cleaning we are trying to fix those errors. Fristly, Removing white spaces from the column names '''"
   ]
  },
  {
   "cell_type": "code",
   "execution_count": 89,
   "id": "f2edd862",
   "metadata": {},
   "outputs": [],
   "source": [
    "Suicide_Data.columns = Suicide_Data.columns.str.replace(' ', '')  "
   ]
  },
  {
   "cell_type": "code",
   "execution_count": 90,
   "id": "d6bbc0ff",
   "metadata": {},
   "outputs": [],
   "source": [
    "#Changing the names of the column\n",
    "Suicide_Data.rename(columns={\"gdp_for_year($)\": \"Gdp_per_yr_usd\"}, inplace=True)"
   ]
  },
  {
   "cell_type": "code",
   "execution_count": 91,
   "id": "7815c45f",
   "metadata": {},
   "outputs": [
    {
     "data": {
      "text/html": [
       "<div>\n",
       "<style scoped>\n",
       "    .dataframe tbody tr th:only-of-type {\n",
       "        vertical-align: middle;\n",
       "    }\n",
       "\n",
       "    .dataframe tbody tr th {\n",
       "        vertical-align: top;\n",
       "    }\n",
       "\n",
       "    .dataframe thead th {\n",
       "        text-align: right;\n",
       "    }\n",
       "</style>\n",
       "<table border=\"1\" class=\"dataframe\">\n",
       "  <thead>\n",
       "    <tr style=\"text-align: right;\">\n",
       "      <th></th>\n",
       "      <th>country</th>\n",
       "      <th>year</th>\n",
       "      <th>sex</th>\n",
       "      <th>age</th>\n",
       "      <th>suicides_no</th>\n",
       "      <th>population</th>\n",
       "      <th>Gdp_per_yr_usd</th>\n",
       "    </tr>\n",
       "  </thead>\n",
       "  <tbody>\n",
       "    <tr>\n",
       "      <th>0</th>\n",
       "      <td>Albania</td>\n",
       "      <td>1987</td>\n",
       "      <td>male</td>\n",
       "      <td>15-24 years</td>\n",
       "      <td>21</td>\n",
       "      <td>312900</td>\n",
       "      <td>2,156,624,900</td>\n",
       "    </tr>\n",
       "    <tr>\n",
       "      <th>1</th>\n",
       "      <td>Albania</td>\n",
       "      <td>1987</td>\n",
       "      <td>male</td>\n",
       "      <td>35-54 years</td>\n",
       "      <td>16</td>\n",
       "      <td>308000</td>\n",
       "      <td>2,156,624,900</td>\n",
       "    </tr>\n",
       "    <tr>\n",
       "      <th>2</th>\n",
       "      <td>Albania</td>\n",
       "      <td>1987</td>\n",
       "      <td>female</td>\n",
       "      <td>15-24 years</td>\n",
       "      <td>14</td>\n",
       "      <td>289700</td>\n",
       "      <td>2,156,624,900</td>\n",
       "    </tr>\n",
       "    <tr>\n",
       "      <th>3</th>\n",
       "      <td>Albania</td>\n",
       "      <td>1987</td>\n",
       "      <td>male</td>\n",
       "      <td>75+ years</td>\n",
       "      <td>1</td>\n",
       "      <td>21800</td>\n",
       "      <td>2,156,624,900</td>\n",
       "    </tr>\n",
       "    <tr>\n",
       "      <th>4</th>\n",
       "      <td>Albania</td>\n",
       "      <td>1987</td>\n",
       "      <td>male</td>\n",
       "      <td>25-34 years</td>\n",
       "      <td>9</td>\n",
       "      <td>274300</td>\n",
       "      <td>2,156,624,900</td>\n",
       "    </tr>\n",
       "    <tr>\n",
       "      <th>...</th>\n",
       "      <td>...</td>\n",
       "      <td>...</td>\n",
       "      <td>...</td>\n",
       "      <td>...</td>\n",
       "      <td>...</td>\n",
       "      <td>...</td>\n",
       "      <td>...</td>\n",
       "    </tr>\n",
       "    <tr>\n",
       "      <th>27835</th>\n",
       "      <td>Belgium</td>\n",
       "      <td>2011</td>\n",
       "      <td>female</td>\n",
       "      <td>25-34 years</td>\n",
       "      <td>6</td>\n",
       "      <td>707535</td>\n",
       "      <td>527,008,453,887</td>\n",
       "    </tr>\n",
       "    <tr>\n",
       "      <th>27836</th>\n",
       "      <td>Thailand</td>\n",
       "      <td>2016</td>\n",
       "      <td>male</td>\n",
       "      <td>75+ years</td>\n",
       "      <td>152</td>\n",
       "      <td>1124052</td>\n",
       "      <td>411,755,164,833</td>\n",
       "    </tr>\n",
       "    <tr>\n",
       "      <th>27837</th>\n",
       "      <td>Netherlands</td>\n",
       "      <td>1998</td>\n",
       "      <td>female</td>\n",
       "      <td>15-24 years</td>\n",
       "      <td>21</td>\n",
       "      <td>934500</td>\n",
       "      <td>432,476,116,419</td>\n",
       "    </tr>\n",
       "    <tr>\n",
       "      <th>27838</th>\n",
       "      <td>Grenada</td>\n",
       "      <td>2002</td>\n",
       "      <td>female</td>\n",
       "      <td>5-14 years</td>\n",
       "      <td>NaN</td>\n",
       "      <td>11760</td>\n",
       "      <td>540,336,926</td>\n",
       "    </tr>\n",
       "    <tr>\n",
       "      <th>27839</th>\n",
       "      <td>Mexico</td>\n",
       "      <td>1988</td>\n",
       "      <td>female</td>\n",
       "      <td>75+ years</td>\n",
       "      <td>7</td>\n",
       "      <td>614000</td>\n",
       "      <td>183,144,164,357</td>\n",
       "    </tr>\n",
       "  </tbody>\n",
       "</table>\n",
       "<p>27840 rows × 7 columns</p>\n",
       "</div>"
      ],
      "text/plain": [
       "           country  year     sex          age suicides_no  population  \\\n",
       "0          Albania  1987    male  15-24 years          21      312900   \n",
       "1          Albania  1987    male  35-54 years          16      308000   \n",
       "2          Albania  1987  female  15-24 years          14      289700   \n",
       "3          Albania  1987    male    75+ years           1       21800   \n",
       "4          Albania  1987    male  25-34 years           9      274300   \n",
       "...            ...   ...     ...          ...         ...         ...   \n",
       "27835      Belgium  2011  female  25-34 years           6      707535   \n",
       "27836     Thailand  2016    male    75+ years         152     1124052   \n",
       "27837  Netherlands  1998  female  15-24 years          21      934500   \n",
       "27838      Grenada  2002  female   5-14 years         NaN       11760   \n",
       "27839       Mexico  1988  female    75+ years           7      614000   \n",
       "\n",
       "        Gdp_per_yr_usd  \n",
       "0        2,156,624,900  \n",
       "1        2,156,624,900  \n",
       "2        2,156,624,900  \n",
       "3        2,156,624,900  \n",
       "4        2,156,624,900  \n",
       "...                ...  \n",
       "27835  527,008,453,887  \n",
       "27836  411,755,164,833  \n",
       "27837  432,476,116,419  \n",
       "27838      540,336,926  \n",
       "27839  183,144,164,357  \n",
       "\n",
       "[27840 rows x 7 columns]"
      ]
     },
     "execution_count": 91,
     "metadata": {},
     "output_type": "execute_result"
    }
   ],
   "source": [
    "#Last two columns are having all NAN values, so we are Droppping unwanted columns\n",
    "Suicide_Data.drop(['Unnamed:7' , 'Unnamed:8'],axis = 1, inplace = True) \n",
    "Suicide_Data"
   ]
  },
  {
   "cell_type": "code",
   "execution_count": 92,
   "id": "e7673a02",
   "metadata": {},
   "outputs": [
    {
     "data": {
      "text/plain": [
       "0        False\n",
       "1        False\n",
       "2        False\n",
       "3        False\n",
       "4        False\n",
       "         ...  \n",
       "27835     True\n",
       "27836     True\n",
       "27837     True\n",
       "27838     True\n",
       "27839     True\n",
       "Length: 27840, dtype: bool"
      ]
     },
     "execution_count": 92,
     "metadata": {},
     "output_type": "execute_result"
    }
   ],
   "source": [
    "#Checking if there are any duplicate values\n",
    "Suicide_Data.duplicated()"
   ]
  },
  {
   "cell_type": "code",
   "execution_count": 93,
   "id": "657f86d0",
   "metadata": {},
   "outputs": [],
   "source": [
    "#Dropping the above duplicate values\n",
    "Suicide_Data.drop_duplicates(inplace= True)"
   ]
  },
  {
   "cell_type": "code",
   "execution_count": 94,
   "id": "c12efe16",
   "metadata": {},
   "outputs": [],
   "source": [
    "#Changing the data type of object to int/float\n",
    "Suicide_Data['suicides_no'] = Suicide_Data['suicides_no'].apply(pd.to_numeric, errors='coerce')"
   ]
  },
  {
   "cell_type": "markdown",
   "id": "98b95748",
   "metadata": {},
   "source": [
    "''' We are having NAN values in 'suicide_no' column. In order to fill the NAN values we are grouping the countries individually and calculating their mean based on 'suicide_no' column. Now we are filling the column with mean values using transform function '''"
   ]
  },
  {
   "cell_type": "code",
   "execution_count": 95,
   "id": "6a870dd5",
   "metadata": {},
   "outputs": [
    {
     "data": {
      "text/html": [
       "<div>\n",
       "<style scoped>\n",
       "    .dataframe tbody tr th:only-of-type {\n",
       "        vertical-align: middle;\n",
       "    }\n",
       "\n",
       "    .dataframe tbody tr th {\n",
       "        vertical-align: top;\n",
       "    }\n",
       "\n",
       "    .dataframe thead th {\n",
       "        text-align: right;\n",
       "    }\n",
       "</style>\n",
       "<table border=\"1\" class=\"dataframe\">\n",
       "  <thead>\n",
       "    <tr style=\"text-align: right;\">\n",
       "      <th></th>\n",
       "      <th>country</th>\n",
       "      <th>year</th>\n",
       "      <th>sex</th>\n",
       "      <th>age</th>\n",
       "      <th>suicides_no</th>\n",
       "      <th>population</th>\n",
       "      <th>Gdp_per_yr_usd</th>\n",
       "    </tr>\n",
       "  </thead>\n",
       "  <tbody>\n",
       "    <tr>\n",
       "      <th>0</th>\n",
       "      <td>Albania</td>\n",
       "      <td>1987</td>\n",
       "      <td>male</td>\n",
       "      <td>15-24 years</td>\n",
       "      <td>21.0</td>\n",
       "      <td>312900</td>\n",
       "      <td>2,156,624,900</td>\n",
       "    </tr>\n",
       "    <tr>\n",
       "      <th>1</th>\n",
       "      <td>Albania</td>\n",
       "      <td>1987</td>\n",
       "      <td>male</td>\n",
       "      <td>35-54 years</td>\n",
       "      <td>16.0</td>\n",
       "      <td>308000</td>\n",
       "      <td>2,156,624,900</td>\n",
       "    </tr>\n",
       "    <tr>\n",
       "      <th>2</th>\n",
       "      <td>Albania</td>\n",
       "      <td>1987</td>\n",
       "      <td>female</td>\n",
       "      <td>15-24 years</td>\n",
       "      <td>14.0</td>\n",
       "      <td>289700</td>\n",
       "      <td>2,156,624,900</td>\n",
       "    </tr>\n",
       "    <tr>\n",
       "      <th>3</th>\n",
       "      <td>Albania</td>\n",
       "      <td>1987</td>\n",
       "      <td>male</td>\n",
       "      <td>75+ years</td>\n",
       "      <td>1.0</td>\n",
       "      <td>21800</td>\n",
       "      <td>2,156,624,900</td>\n",
       "    </tr>\n",
       "    <tr>\n",
       "      <th>4</th>\n",
       "      <td>Albania</td>\n",
       "      <td>1987</td>\n",
       "      <td>male</td>\n",
       "      <td>25-34 years</td>\n",
       "      <td>9.0</td>\n",
       "      <td>274300</td>\n",
       "      <td>2,156,624,900</td>\n",
       "    </tr>\n",
       "    <tr>\n",
       "      <th>...</th>\n",
       "      <td>...</td>\n",
       "      <td>...</td>\n",
       "      <td>...</td>\n",
       "      <td>...</td>\n",
       "      <td>...</td>\n",
       "      <td>...</td>\n",
       "      <td>...</td>\n",
       "    </tr>\n",
       "    <tr>\n",
       "      <th>27815</th>\n",
       "      <td>Uzbekistan</td>\n",
       "      <td>2014</td>\n",
       "      <td>female</td>\n",
       "      <td>35-54 years</td>\n",
       "      <td>17.0</td>\n",
       "      <td>3620833</td>\n",
       "      <td>63,067,077,179</td>\n",
       "    </tr>\n",
       "    <tr>\n",
       "      <th>27816</th>\n",
       "      <td>Uzbekistan</td>\n",
       "      <td>2014</td>\n",
       "      <td>female</td>\n",
       "      <td>75+ years</td>\n",
       "      <td>9.0</td>\n",
       "      <td>348465</td>\n",
       "      <td>63,067,077,179</td>\n",
       "    </tr>\n",
       "    <tr>\n",
       "      <th>27817</th>\n",
       "      <td>Uzbekistan</td>\n",
       "      <td>2014</td>\n",
       "      <td>male</td>\n",
       "      <td>5-14 years</td>\n",
       "      <td>6.0</td>\n",
       "      <td>2762158</td>\n",
       "      <td>63,067,077,179</td>\n",
       "    </tr>\n",
       "    <tr>\n",
       "      <th>27818</th>\n",
       "      <td>Uzbekistan</td>\n",
       "      <td>2014</td>\n",
       "      <td>female</td>\n",
       "      <td>5-14 years</td>\n",
       "      <td>44.0</td>\n",
       "      <td>2631600</td>\n",
       "      <td>63,067,077,179</td>\n",
       "    </tr>\n",
       "    <tr>\n",
       "      <th>27819</th>\n",
       "      <td>Uzbekistan</td>\n",
       "      <td>2014</td>\n",
       "      <td>female</td>\n",
       "      <td>55-74 years</td>\n",
       "      <td>21.0</td>\n",
       "      <td>1438935</td>\n",
       "      <td>63,067,077,179</td>\n",
       "    </tr>\n",
       "  </tbody>\n",
       "</table>\n",
       "<p>27820 rows × 7 columns</p>\n",
       "</div>"
      ],
      "text/plain": [
       "          country  year     sex          age  suicides_no  population  \\\n",
       "0         Albania  1987    male  15-24 years         21.0      312900   \n",
       "1         Albania  1987    male  35-54 years         16.0      308000   \n",
       "2         Albania  1987  female  15-24 years         14.0      289700   \n",
       "3         Albania  1987    male    75+ years          1.0       21800   \n",
       "4         Albania  1987    male  25-34 years          9.0      274300   \n",
       "...           ...   ...     ...          ...          ...         ...   \n",
       "27815  Uzbekistan  2014  female  35-54 years         17.0     3620833   \n",
       "27816  Uzbekistan  2014  female    75+ years          9.0      348465   \n",
       "27817  Uzbekistan  2014    male   5-14 years          6.0     2762158   \n",
       "27818  Uzbekistan  2014  female   5-14 years         44.0     2631600   \n",
       "27819  Uzbekistan  2014  female  55-74 years         21.0     1438935   \n",
       "\n",
       "       Gdp_per_yr_usd  \n",
       "0       2,156,624,900  \n",
       "1       2,156,624,900  \n",
       "2       2,156,624,900  \n",
       "3       2,156,624,900  \n",
       "4       2,156,624,900  \n",
       "...               ...  \n",
       "27815  63,067,077,179  \n",
       "27816  63,067,077,179  \n",
       "27817  63,067,077,179  \n",
       "27818  63,067,077,179  \n",
       "27819  63,067,077,179  \n",
       "\n",
       "[27820 rows x 7 columns]"
      ]
     },
     "execution_count": 95,
     "metadata": {},
     "output_type": "execute_result"
    }
   ],
   "source": [
    "Suicide_Data['suicides_no'] = Suicide_Data['suicides_no'].fillna(Suicide_Data.groupby('country')['suicides_no'].transform('mean'))\n",
    "Suicide_Data"
   ]
  },
  {
   "cell_type": "code",
   "execution_count": 96,
   "id": "c9371e0e",
   "metadata": {},
   "outputs": [],
   "source": [
    "#In order to convert float values we are rounding off the mean with nearest zero value using ceil function.\n",
    "Suicide_Data['suicides_no'] = Suicide_Data['suicides_no'].apply((np.ceil),inplace=True)"
   ]
  },
  {
   "cell_type": "markdown",
   "id": "6ae12e03",
   "metadata": {},
   "source": [
    "# Adding a new column “suicides/100k” and generating its data "
   ]
  },
  {
   "cell_type": "code",
   "execution_count": 97,
   "id": "223b1567",
   "metadata": {},
   "outputs": [
    {
     "data": {
      "text/html": [
       "<div>\n",
       "<style scoped>\n",
       "    .dataframe tbody tr th:only-of-type {\n",
       "        vertical-align: middle;\n",
       "    }\n",
       "\n",
       "    .dataframe tbody tr th {\n",
       "        vertical-align: top;\n",
       "    }\n",
       "\n",
       "    .dataframe thead th {\n",
       "        text-align: right;\n",
       "    }\n",
       "</style>\n",
       "<table border=\"1\" class=\"dataframe\">\n",
       "  <thead>\n",
       "    <tr style=\"text-align: right;\">\n",
       "      <th></th>\n",
       "      <th>country</th>\n",
       "      <th>year</th>\n",
       "      <th>sex</th>\n",
       "      <th>age</th>\n",
       "      <th>suicides_no</th>\n",
       "      <th>population</th>\n",
       "      <th>Gdp_per_yr_usd</th>\n",
       "      <th>suicides/100k</th>\n",
       "    </tr>\n",
       "  </thead>\n",
       "  <tbody>\n",
       "    <tr>\n",
       "      <th>0</th>\n",
       "      <td>Albania</td>\n",
       "      <td>1987</td>\n",
       "      <td>male</td>\n",
       "      <td>15-24 years</td>\n",
       "      <td>21.0</td>\n",
       "      <td>312900</td>\n",
       "      <td>2,156,624,900</td>\n",
       "      <td>6.711409</td>\n",
       "    </tr>\n",
       "    <tr>\n",
       "      <th>1</th>\n",
       "      <td>Albania</td>\n",
       "      <td>1987</td>\n",
       "      <td>male</td>\n",
       "      <td>35-54 years</td>\n",
       "      <td>16.0</td>\n",
       "      <td>308000</td>\n",
       "      <td>2,156,624,900</td>\n",
       "      <td>5.194805</td>\n",
       "    </tr>\n",
       "    <tr>\n",
       "      <th>2</th>\n",
       "      <td>Albania</td>\n",
       "      <td>1987</td>\n",
       "      <td>female</td>\n",
       "      <td>15-24 years</td>\n",
       "      <td>14.0</td>\n",
       "      <td>289700</td>\n",
       "      <td>2,156,624,900</td>\n",
       "      <td>4.832585</td>\n",
       "    </tr>\n",
       "    <tr>\n",
       "      <th>3</th>\n",
       "      <td>Albania</td>\n",
       "      <td>1987</td>\n",
       "      <td>male</td>\n",
       "      <td>75+ years</td>\n",
       "      <td>1.0</td>\n",
       "      <td>21800</td>\n",
       "      <td>2,156,624,900</td>\n",
       "      <td>4.587156</td>\n",
       "    </tr>\n",
       "    <tr>\n",
       "      <th>4</th>\n",
       "      <td>Albania</td>\n",
       "      <td>1987</td>\n",
       "      <td>male</td>\n",
       "      <td>25-34 years</td>\n",
       "      <td>9.0</td>\n",
       "      <td>274300</td>\n",
       "      <td>2,156,624,900</td>\n",
       "      <td>3.281079</td>\n",
       "    </tr>\n",
       "    <tr>\n",
       "      <th>...</th>\n",
       "      <td>...</td>\n",
       "      <td>...</td>\n",
       "      <td>...</td>\n",
       "      <td>...</td>\n",
       "      <td>...</td>\n",
       "      <td>...</td>\n",
       "      <td>...</td>\n",
       "      <td>...</td>\n",
       "    </tr>\n",
       "    <tr>\n",
       "      <th>27815</th>\n",
       "      <td>Uzbekistan</td>\n",
       "      <td>2014</td>\n",
       "      <td>female</td>\n",
       "      <td>35-54 years</td>\n",
       "      <td>17.0</td>\n",
       "      <td>3620833</td>\n",
       "      <td>63,067,077,179</td>\n",
       "      <td>0.469505</td>\n",
       "    </tr>\n",
       "    <tr>\n",
       "      <th>27816</th>\n",
       "      <td>Uzbekistan</td>\n",
       "      <td>2014</td>\n",
       "      <td>female</td>\n",
       "      <td>75+ years</td>\n",
       "      <td>9.0</td>\n",
       "      <td>348465</td>\n",
       "      <td>63,067,077,179</td>\n",
       "      <td>2.582756</td>\n",
       "    </tr>\n",
       "    <tr>\n",
       "      <th>27817</th>\n",
       "      <td>Uzbekistan</td>\n",
       "      <td>2014</td>\n",
       "      <td>male</td>\n",
       "      <td>5-14 years</td>\n",
       "      <td>6.0</td>\n",
       "      <td>2762158</td>\n",
       "      <td>63,067,077,179</td>\n",
       "      <td>0.217221</td>\n",
       "    </tr>\n",
       "    <tr>\n",
       "      <th>27818</th>\n",
       "      <td>Uzbekistan</td>\n",
       "      <td>2014</td>\n",
       "      <td>female</td>\n",
       "      <td>5-14 years</td>\n",
       "      <td>44.0</td>\n",
       "      <td>2631600</td>\n",
       "      <td>63,067,077,179</td>\n",
       "      <td>1.671987</td>\n",
       "    </tr>\n",
       "    <tr>\n",
       "      <th>27819</th>\n",
       "      <td>Uzbekistan</td>\n",
       "      <td>2014</td>\n",
       "      <td>female</td>\n",
       "      <td>55-74 years</td>\n",
       "      <td>21.0</td>\n",
       "      <td>1438935</td>\n",
       "      <td>63,067,077,179</td>\n",
       "      <td>1.459413</td>\n",
       "    </tr>\n",
       "  </tbody>\n",
       "</table>\n",
       "<p>27820 rows × 8 columns</p>\n",
       "</div>"
      ],
      "text/plain": [
       "          country  year     sex          age  suicides_no  population  \\\n",
       "0         Albania  1987    male  15-24 years         21.0      312900   \n",
       "1         Albania  1987    male  35-54 years         16.0      308000   \n",
       "2         Albania  1987  female  15-24 years         14.0      289700   \n",
       "3         Albania  1987    male    75+ years          1.0       21800   \n",
       "4         Albania  1987    male  25-34 years          9.0      274300   \n",
       "...           ...   ...     ...          ...          ...         ...   \n",
       "27815  Uzbekistan  2014  female  35-54 years         17.0     3620833   \n",
       "27816  Uzbekistan  2014  female    75+ years          9.0      348465   \n",
       "27817  Uzbekistan  2014    male   5-14 years          6.0     2762158   \n",
       "27818  Uzbekistan  2014  female   5-14 years         44.0     2631600   \n",
       "27819  Uzbekistan  2014  female  55-74 years         21.0     1438935   \n",
       "\n",
       "       Gdp_per_yr_usd  suicides/100k  \n",
       "0       2,156,624,900       6.711409  \n",
       "1       2,156,624,900       5.194805  \n",
       "2       2,156,624,900       4.832585  \n",
       "3       2,156,624,900       4.587156  \n",
       "4       2,156,624,900       3.281079  \n",
       "...               ...            ...  \n",
       "27815  63,067,077,179       0.469505  \n",
       "27816  63,067,077,179       2.582756  \n",
       "27817  63,067,077,179       0.217221  \n",
       "27818  63,067,077,179       1.671987  \n",
       "27819  63,067,077,179       1.459413  \n",
       "\n",
       "[27820 rows x 8 columns]"
      ]
     },
     "execution_count": 97,
     "metadata": {},
     "output_type": "execute_result"
    }
   ],
   "source": [
    "#Generating data for the new column 'suicides/100k' and filling its data accordingly\n",
    "Suicide_Data['suicides/100k'] = Suicide_Data['suicides_no'] / (Suicide_Data['population'] / 100000) \n",
    "Suicide_Data"
   ]
  },
  {
   "cell_type": "code",
   "execution_count": 98,
   "id": "fb2d1877",
   "metadata": {},
   "outputs": [],
   "source": [
    "Suicide_Data['suicides/100k'] = Suicide_Data['suicides/100k'].apply((np.ceil),inplace=True)"
   ]
  },
  {
   "cell_type": "markdown",
   "id": "da0c1a44",
   "metadata": {},
   "source": [
    "# Adding a new column “gdp_per_capita” and filling its data."
   ]
  },
  {
   "cell_type": "markdown",
   "id": "f5f5090a",
   "metadata": {},
   "source": [
    "Now generating another column 'gdp_per_capita' and filling the data accordingly\n",
    "Before doing that we are removing the commas in the values"
   ]
  },
  {
   "cell_type": "code",
   "execution_count": 99,
   "id": "b755c045",
   "metadata": {},
   "outputs": [],
   "source": [
    "Suicide_Data['Gdp_per_yr_usd']=Suicide_Data['Gdp_per_yr_usd'].str.replace(',','')"
   ]
  },
  {
   "cell_type": "markdown",
   "id": "8eab0200",
   "metadata": {},
   "source": [
    "Converting the column's data type"
   ]
  },
  {
   "cell_type": "code",
   "execution_count": 100,
   "id": "d811f829",
   "metadata": {},
   "outputs": [],
   "source": [
    "Suicide_Data['Gdp_per_yr_usd'] = Suicide_Data['Gdp_per_yr_usd'].apply(pd.to_numeric, errors='coerce')"
   ]
  },
  {
   "cell_type": "markdown",
   "id": "88dd5646",
   "metadata": {},
   "source": [
    "we are grouping 'country' and 'year'individually and calculating their mean based on 'population' column.\n",
    "Now we are generating a new column 'populationByYear' and filling the column with sum values using transform function."
   ]
  },
  {
   "cell_type": "code",
   "execution_count": 101,
   "id": "e74748af",
   "metadata": {},
   "outputs": [
    {
     "data": {
      "text/html": [
       "<div>\n",
       "<style scoped>\n",
       "    .dataframe tbody tr th:only-of-type {\n",
       "        vertical-align: middle;\n",
       "    }\n",
       "\n",
       "    .dataframe tbody tr th {\n",
       "        vertical-align: top;\n",
       "    }\n",
       "\n",
       "    .dataframe thead th {\n",
       "        text-align: right;\n",
       "    }\n",
       "</style>\n",
       "<table border=\"1\" class=\"dataframe\">\n",
       "  <thead>\n",
       "    <tr style=\"text-align: right;\">\n",
       "      <th></th>\n",
       "      <th>country</th>\n",
       "      <th>year</th>\n",
       "      <th>sex</th>\n",
       "      <th>age</th>\n",
       "      <th>suicides_no</th>\n",
       "      <th>population</th>\n",
       "      <th>Gdp_per_yr_usd</th>\n",
       "      <th>suicides/100k</th>\n",
       "      <th>PopulationByYear</th>\n",
       "    </tr>\n",
       "  </thead>\n",
       "  <tbody>\n",
       "    <tr>\n",
       "      <th>0</th>\n",
       "      <td>Albania</td>\n",
       "      <td>1987</td>\n",
       "      <td>male</td>\n",
       "      <td>15-24 years</td>\n",
       "      <td>21.0</td>\n",
       "      <td>312900</td>\n",
       "      <td>2156624900</td>\n",
       "      <td>7.0</td>\n",
       "      <td>2709600</td>\n",
       "    </tr>\n",
       "    <tr>\n",
       "      <th>1</th>\n",
       "      <td>Albania</td>\n",
       "      <td>1987</td>\n",
       "      <td>male</td>\n",
       "      <td>35-54 years</td>\n",
       "      <td>16.0</td>\n",
       "      <td>308000</td>\n",
       "      <td>2156624900</td>\n",
       "      <td>6.0</td>\n",
       "      <td>2709600</td>\n",
       "    </tr>\n",
       "    <tr>\n",
       "      <th>2</th>\n",
       "      <td>Albania</td>\n",
       "      <td>1987</td>\n",
       "      <td>female</td>\n",
       "      <td>15-24 years</td>\n",
       "      <td>14.0</td>\n",
       "      <td>289700</td>\n",
       "      <td>2156624900</td>\n",
       "      <td>5.0</td>\n",
       "      <td>2709600</td>\n",
       "    </tr>\n",
       "    <tr>\n",
       "      <th>3</th>\n",
       "      <td>Albania</td>\n",
       "      <td>1987</td>\n",
       "      <td>male</td>\n",
       "      <td>75+ years</td>\n",
       "      <td>1.0</td>\n",
       "      <td>21800</td>\n",
       "      <td>2156624900</td>\n",
       "      <td>5.0</td>\n",
       "      <td>2709600</td>\n",
       "    </tr>\n",
       "    <tr>\n",
       "      <th>4</th>\n",
       "      <td>Albania</td>\n",
       "      <td>1987</td>\n",
       "      <td>male</td>\n",
       "      <td>25-34 years</td>\n",
       "      <td>9.0</td>\n",
       "      <td>274300</td>\n",
       "      <td>2156624900</td>\n",
       "      <td>4.0</td>\n",
       "      <td>2709600</td>\n",
       "    </tr>\n",
       "    <tr>\n",
       "      <th>...</th>\n",
       "      <td>...</td>\n",
       "      <td>...</td>\n",
       "      <td>...</td>\n",
       "      <td>...</td>\n",
       "      <td>...</td>\n",
       "      <td>...</td>\n",
       "      <td>...</td>\n",
       "      <td>...</td>\n",
       "      <td>...</td>\n",
       "    </tr>\n",
       "    <tr>\n",
       "      <th>27815</th>\n",
       "      <td>Uzbekistan</td>\n",
       "      <td>2014</td>\n",
       "      <td>female</td>\n",
       "      <td>35-54 years</td>\n",
       "      <td>17.0</td>\n",
       "      <td>3620833</td>\n",
       "      <td>63067077179</td>\n",
       "      <td>1.0</td>\n",
       "      <td>27313507</td>\n",
       "    </tr>\n",
       "    <tr>\n",
       "      <th>27816</th>\n",
       "      <td>Uzbekistan</td>\n",
       "      <td>2014</td>\n",
       "      <td>female</td>\n",
       "      <td>75+ years</td>\n",
       "      <td>9.0</td>\n",
       "      <td>348465</td>\n",
       "      <td>63067077179</td>\n",
       "      <td>3.0</td>\n",
       "      <td>27313507</td>\n",
       "    </tr>\n",
       "    <tr>\n",
       "      <th>27817</th>\n",
       "      <td>Uzbekistan</td>\n",
       "      <td>2014</td>\n",
       "      <td>male</td>\n",
       "      <td>5-14 years</td>\n",
       "      <td>6.0</td>\n",
       "      <td>2762158</td>\n",
       "      <td>63067077179</td>\n",
       "      <td>1.0</td>\n",
       "      <td>27313507</td>\n",
       "    </tr>\n",
       "    <tr>\n",
       "      <th>27818</th>\n",
       "      <td>Uzbekistan</td>\n",
       "      <td>2014</td>\n",
       "      <td>female</td>\n",
       "      <td>5-14 years</td>\n",
       "      <td>44.0</td>\n",
       "      <td>2631600</td>\n",
       "      <td>63067077179</td>\n",
       "      <td>2.0</td>\n",
       "      <td>27313507</td>\n",
       "    </tr>\n",
       "    <tr>\n",
       "      <th>27819</th>\n",
       "      <td>Uzbekistan</td>\n",
       "      <td>2014</td>\n",
       "      <td>female</td>\n",
       "      <td>55-74 years</td>\n",
       "      <td>21.0</td>\n",
       "      <td>1438935</td>\n",
       "      <td>63067077179</td>\n",
       "      <td>2.0</td>\n",
       "      <td>27313507</td>\n",
       "    </tr>\n",
       "  </tbody>\n",
       "</table>\n",
       "<p>27820 rows × 9 columns</p>\n",
       "</div>"
      ],
      "text/plain": [
       "          country  year     sex          age  suicides_no  population  \\\n",
       "0         Albania  1987    male  15-24 years         21.0      312900   \n",
       "1         Albania  1987    male  35-54 years         16.0      308000   \n",
       "2         Albania  1987  female  15-24 years         14.0      289700   \n",
       "3         Albania  1987    male    75+ years          1.0       21800   \n",
       "4         Albania  1987    male  25-34 years          9.0      274300   \n",
       "...           ...   ...     ...          ...          ...         ...   \n",
       "27815  Uzbekistan  2014  female  35-54 years         17.0     3620833   \n",
       "27816  Uzbekistan  2014  female    75+ years          9.0      348465   \n",
       "27817  Uzbekistan  2014    male   5-14 years          6.0     2762158   \n",
       "27818  Uzbekistan  2014  female   5-14 years         44.0     2631600   \n",
       "27819  Uzbekistan  2014  female  55-74 years         21.0     1438935   \n",
       "\n",
       "       Gdp_per_yr_usd  suicides/100k  PopulationByYear  \n",
       "0          2156624900            7.0           2709600  \n",
       "1          2156624900            6.0           2709600  \n",
       "2          2156624900            5.0           2709600  \n",
       "3          2156624900            5.0           2709600  \n",
       "4          2156624900            4.0           2709600  \n",
       "...               ...            ...               ...  \n",
       "27815     63067077179            1.0          27313507  \n",
       "27816     63067077179            3.0          27313507  \n",
       "27817     63067077179            1.0          27313507  \n",
       "27818     63067077179            2.0          27313507  \n",
       "27819     63067077179            2.0          27313507  \n",
       "\n",
       "[27820 rows x 9 columns]"
      ]
     },
     "execution_count": 101,
     "metadata": {},
     "output_type": "execute_result"
    }
   ],
   "source": [
    "Suicide_Data['PopulationByYear' ] = Suicide_Data.groupby(['country','year' ])['population'].transform('sum')\n",
    "Suicide_Data"
   ]
  },
  {
   "cell_type": "markdown",
   "id": "2769d6b8",
   "metadata": {},
   "source": [
    "Now we are filling our new column with newly generated population based on each year"
   ]
  },
  {
   "cell_type": "code",
   "execution_count": 102,
   "id": "d8704f68",
   "metadata": {},
   "outputs": [
    {
     "data": {
      "text/html": [
       "<div>\n",
       "<style scoped>\n",
       "    .dataframe tbody tr th:only-of-type {\n",
       "        vertical-align: middle;\n",
       "    }\n",
       "\n",
       "    .dataframe tbody tr th {\n",
       "        vertical-align: top;\n",
       "    }\n",
       "\n",
       "    .dataframe thead th {\n",
       "        text-align: right;\n",
       "    }\n",
       "</style>\n",
       "<table border=\"1\" class=\"dataframe\">\n",
       "  <thead>\n",
       "    <tr style=\"text-align: right;\">\n",
       "      <th></th>\n",
       "      <th>country</th>\n",
       "      <th>year</th>\n",
       "      <th>sex</th>\n",
       "      <th>age</th>\n",
       "      <th>suicides_no</th>\n",
       "      <th>population</th>\n",
       "      <th>Gdp_per_yr_usd</th>\n",
       "      <th>suicides/100k</th>\n",
       "      <th>PopulationByYear</th>\n",
       "      <th>gdp_per_capita</th>\n",
       "    </tr>\n",
       "  </thead>\n",
       "  <tbody>\n",
       "    <tr>\n",
       "      <th>0</th>\n",
       "      <td>Albania</td>\n",
       "      <td>1987</td>\n",
       "      <td>male</td>\n",
       "      <td>15-24 years</td>\n",
       "      <td>21.0</td>\n",
       "      <td>312900</td>\n",
       "      <td>2156624900</td>\n",
       "      <td>7.0</td>\n",
       "      <td>2709600</td>\n",
       "      <td>795.920025</td>\n",
       "    </tr>\n",
       "    <tr>\n",
       "      <th>1</th>\n",
       "      <td>Albania</td>\n",
       "      <td>1987</td>\n",
       "      <td>male</td>\n",
       "      <td>35-54 years</td>\n",
       "      <td>16.0</td>\n",
       "      <td>308000</td>\n",
       "      <td>2156624900</td>\n",
       "      <td>6.0</td>\n",
       "      <td>2709600</td>\n",
       "      <td>795.920025</td>\n",
       "    </tr>\n",
       "    <tr>\n",
       "      <th>2</th>\n",
       "      <td>Albania</td>\n",
       "      <td>1987</td>\n",
       "      <td>female</td>\n",
       "      <td>15-24 years</td>\n",
       "      <td>14.0</td>\n",
       "      <td>289700</td>\n",
       "      <td>2156624900</td>\n",
       "      <td>5.0</td>\n",
       "      <td>2709600</td>\n",
       "      <td>795.920025</td>\n",
       "    </tr>\n",
       "    <tr>\n",
       "      <th>3</th>\n",
       "      <td>Albania</td>\n",
       "      <td>1987</td>\n",
       "      <td>male</td>\n",
       "      <td>75+ years</td>\n",
       "      <td>1.0</td>\n",
       "      <td>21800</td>\n",
       "      <td>2156624900</td>\n",
       "      <td>5.0</td>\n",
       "      <td>2709600</td>\n",
       "      <td>795.920025</td>\n",
       "    </tr>\n",
       "    <tr>\n",
       "      <th>4</th>\n",
       "      <td>Albania</td>\n",
       "      <td>1987</td>\n",
       "      <td>male</td>\n",
       "      <td>25-34 years</td>\n",
       "      <td>9.0</td>\n",
       "      <td>274300</td>\n",
       "      <td>2156624900</td>\n",
       "      <td>4.0</td>\n",
       "      <td>2709600</td>\n",
       "      <td>795.920025</td>\n",
       "    </tr>\n",
       "    <tr>\n",
       "      <th>...</th>\n",
       "      <td>...</td>\n",
       "      <td>...</td>\n",
       "      <td>...</td>\n",
       "      <td>...</td>\n",
       "      <td>...</td>\n",
       "      <td>...</td>\n",
       "      <td>...</td>\n",
       "      <td>...</td>\n",
       "      <td>...</td>\n",
       "      <td>...</td>\n",
       "    </tr>\n",
       "    <tr>\n",
       "      <th>27815</th>\n",
       "      <td>Uzbekistan</td>\n",
       "      <td>2014</td>\n",
       "      <td>female</td>\n",
       "      <td>35-54 years</td>\n",
       "      <td>17.0</td>\n",
       "      <td>3620833</td>\n",
       "      <td>63067077179</td>\n",
       "      <td>1.0</td>\n",
       "      <td>27313507</td>\n",
       "      <td>2309.006939</td>\n",
       "    </tr>\n",
       "    <tr>\n",
       "      <th>27816</th>\n",
       "      <td>Uzbekistan</td>\n",
       "      <td>2014</td>\n",
       "      <td>female</td>\n",
       "      <td>75+ years</td>\n",
       "      <td>9.0</td>\n",
       "      <td>348465</td>\n",
       "      <td>63067077179</td>\n",
       "      <td>3.0</td>\n",
       "      <td>27313507</td>\n",
       "      <td>2309.006939</td>\n",
       "    </tr>\n",
       "    <tr>\n",
       "      <th>27817</th>\n",
       "      <td>Uzbekistan</td>\n",
       "      <td>2014</td>\n",
       "      <td>male</td>\n",
       "      <td>5-14 years</td>\n",
       "      <td>6.0</td>\n",
       "      <td>2762158</td>\n",
       "      <td>63067077179</td>\n",
       "      <td>1.0</td>\n",
       "      <td>27313507</td>\n",
       "      <td>2309.006939</td>\n",
       "    </tr>\n",
       "    <tr>\n",
       "      <th>27818</th>\n",
       "      <td>Uzbekistan</td>\n",
       "      <td>2014</td>\n",
       "      <td>female</td>\n",
       "      <td>5-14 years</td>\n",
       "      <td>44.0</td>\n",
       "      <td>2631600</td>\n",
       "      <td>63067077179</td>\n",
       "      <td>2.0</td>\n",
       "      <td>27313507</td>\n",
       "      <td>2309.006939</td>\n",
       "    </tr>\n",
       "    <tr>\n",
       "      <th>27819</th>\n",
       "      <td>Uzbekistan</td>\n",
       "      <td>2014</td>\n",
       "      <td>female</td>\n",
       "      <td>55-74 years</td>\n",
       "      <td>21.0</td>\n",
       "      <td>1438935</td>\n",
       "      <td>63067077179</td>\n",
       "      <td>2.0</td>\n",
       "      <td>27313507</td>\n",
       "      <td>2309.006939</td>\n",
       "    </tr>\n",
       "  </tbody>\n",
       "</table>\n",
       "<p>27820 rows × 10 columns</p>\n",
       "</div>"
      ],
      "text/plain": [
       "          country  year     sex          age  suicides_no  population  \\\n",
       "0         Albania  1987    male  15-24 years         21.0      312900   \n",
       "1         Albania  1987    male  35-54 years         16.0      308000   \n",
       "2         Albania  1987  female  15-24 years         14.0      289700   \n",
       "3         Albania  1987    male    75+ years          1.0       21800   \n",
       "4         Albania  1987    male  25-34 years          9.0      274300   \n",
       "...           ...   ...     ...          ...          ...         ...   \n",
       "27815  Uzbekistan  2014  female  35-54 years         17.0     3620833   \n",
       "27816  Uzbekistan  2014  female    75+ years          9.0      348465   \n",
       "27817  Uzbekistan  2014    male   5-14 years          6.0     2762158   \n",
       "27818  Uzbekistan  2014  female   5-14 years         44.0     2631600   \n",
       "27819  Uzbekistan  2014  female  55-74 years         21.0     1438935   \n",
       "\n",
       "       Gdp_per_yr_usd  suicides/100k  PopulationByYear  gdp_per_capita  \n",
       "0          2156624900            7.0           2709600      795.920025  \n",
       "1          2156624900            6.0           2709600      795.920025  \n",
       "2          2156624900            5.0           2709600      795.920025  \n",
       "3          2156624900            5.0           2709600      795.920025  \n",
       "4          2156624900            4.0           2709600      795.920025  \n",
       "...               ...            ...               ...             ...  \n",
       "27815     63067077179            1.0          27313507     2309.006939  \n",
       "27816     63067077179            3.0          27313507     2309.006939  \n",
       "27817     63067077179            1.0          27313507     2309.006939  \n",
       "27818     63067077179            2.0          27313507     2309.006939  \n",
       "27819     63067077179            2.0          27313507     2309.006939  \n",
       "\n",
       "[27820 rows x 10 columns]"
      ]
     },
     "execution_count": 102,
     "metadata": {},
     "output_type": "execute_result"
    }
   ],
   "source": [
    "Suicide_Data['gdp_per_capita'] = Suicide_Data['Gdp_per_yr_usd'] / (Suicide_Data['PopulationByYear'])\n",
    "Suicide_Data"
   ]
  },
  {
   "cell_type": "markdown",
   "id": "aa872907",
   "metadata": {},
   "source": [
    "# Ranking each country by total number of suicides"
   ]
  },
  {
   "cell_type": "markdown",
   "id": "b48324d6",
   "metadata": {},
   "source": [
    "Performing groupby operation on'country' and 'suicides_no' is summed up for each country using the sum method and a new dataFrame is created.\n",
    "reset_index() is to convert new column object with a new index.\n",
    "The new DataFrame has two columns: 'country' and 'suicides_no', where 'suicides_no' has total number of suicides for each country."
   ]
  },
  {
   "cell_type": "code",
   "execution_count": 103,
   "id": "b1cd74db",
   "metadata": {},
   "outputs": [],
   "source": [
    "grouped = Suicide_Data.groupby('country')['suicides_no'].sum().reset_index()"
   ]
  },
  {
   "cell_type": "markdown",
   "id": "d2e7a2a3",
   "metadata": {},
   "source": [
    "To find the rank we are Sorting the dataframe in descending order."
   ]
  },
  {
   "cell_type": "code",
   "execution_count": 104,
   "id": "d353be12",
   "metadata": {},
   "outputs": [
    {
     "name": "stdout",
     "output_type": "stream",
     "text": [
      "                   country  suicides_no\n",
      "0       Russian Federation     815965.0\n",
      "1            United States     759837.0\n",
      "2                    Japan     635785.0\n",
      "3                   France     240432.0\n",
      "4                  Ukraine     237879.0\n",
      "..                     ...          ...\n",
      "96              Cabo Verde         57.0\n",
      "97                   Macau         36.0\n",
      "98              San Marino         36.0\n",
      "99   Saint Kitts and Nevis          0.0\n",
      "100               Dominica          0.0\n",
      "\n",
      "[101 rows x 2 columns]\n"
     ]
    }
   ],
   "source": [
    "ranked = grouped.sort_values('suicides_no', ascending=False).reset_index(drop=True)\n",
    "\n",
    "# Printing the dataframe with ranks\n",
    "print(ranked)"
   ]
  },
  {
   "cell_type": "markdown",
   "id": "d221769b",
   "metadata": {},
   "source": [
    "# Generating a new column 'BirthYear' "
   ]
  },
  {
   "cell_type": "code",
   "execution_count": 105,
   "id": "71b56832",
   "metadata": {},
   "outputs": [
    {
     "data": {
      "text/plain": [
       "array(['15-24 years', '35-54 years', '75+ years', '25-34 years',\n",
       "       '55-74 years', '5-14 years'], dtype=object)"
      ]
     },
     "execution_count": 105,
     "metadata": {},
     "output_type": "execute_result"
    }
   ],
   "source": [
    "#Chceking for unique age group values\n",
    "Suicide_Data['age'].unique()"
   ]
  },
  {
   "cell_type": "markdown",
   "id": "bf38c8e5",
   "metadata": {},
   "source": [
    "We have total 6 age groups. We need to replace them with either lower or higher values of the range.\n",
    "Generating a new column 'BirthYear' and filling the values accordingly"
   ]
  },
  {
   "cell_type": "code",
   "execution_count": 106,
   "id": "37c19da5",
   "metadata": {},
   "outputs": [
    {
     "data": {
      "text/html": [
       "<div>\n",
       "<style scoped>\n",
       "    .dataframe tbody tr th:only-of-type {\n",
       "        vertical-align: middle;\n",
       "    }\n",
       "\n",
       "    .dataframe tbody tr th {\n",
       "        vertical-align: top;\n",
       "    }\n",
       "\n",
       "    .dataframe thead th {\n",
       "        text-align: right;\n",
       "    }\n",
       "</style>\n",
       "<table border=\"1\" class=\"dataframe\">\n",
       "  <thead>\n",
       "    <tr style=\"text-align: right;\">\n",
       "      <th></th>\n",
       "      <th>country</th>\n",
       "      <th>year</th>\n",
       "      <th>sex</th>\n",
       "      <th>age</th>\n",
       "      <th>suicides_no</th>\n",
       "      <th>population</th>\n",
       "      <th>Gdp_per_yr_usd</th>\n",
       "      <th>suicides/100k</th>\n",
       "      <th>PopulationByYear</th>\n",
       "      <th>gdp_per_capita</th>\n",
       "      <th>age_lower</th>\n",
       "      <th>BirthYear</th>\n",
       "    </tr>\n",
       "  </thead>\n",
       "  <tbody>\n",
       "    <tr>\n",
       "      <th>0</th>\n",
       "      <td>Albania</td>\n",
       "      <td>1987</td>\n",
       "      <td>male</td>\n",
       "      <td>15-24 years</td>\n",
       "      <td>21.0</td>\n",
       "      <td>312900</td>\n",
       "      <td>2156624900</td>\n",
       "      <td>7.0</td>\n",
       "      <td>2709600</td>\n",
       "      <td>795.920025</td>\n",
       "      <td>15.0</td>\n",
       "      <td>1972.0</td>\n",
       "    </tr>\n",
       "    <tr>\n",
       "      <th>1</th>\n",
       "      <td>Albania</td>\n",
       "      <td>1987</td>\n",
       "      <td>male</td>\n",
       "      <td>35-54 years</td>\n",
       "      <td>16.0</td>\n",
       "      <td>308000</td>\n",
       "      <td>2156624900</td>\n",
       "      <td>6.0</td>\n",
       "      <td>2709600</td>\n",
       "      <td>795.920025</td>\n",
       "      <td>35.0</td>\n",
       "      <td>1952.0</td>\n",
       "    </tr>\n",
       "    <tr>\n",
       "      <th>2</th>\n",
       "      <td>Albania</td>\n",
       "      <td>1987</td>\n",
       "      <td>female</td>\n",
       "      <td>15-24 years</td>\n",
       "      <td>14.0</td>\n",
       "      <td>289700</td>\n",
       "      <td>2156624900</td>\n",
       "      <td>5.0</td>\n",
       "      <td>2709600</td>\n",
       "      <td>795.920025</td>\n",
       "      <td>15.0</td>\n",
       "      <td>1972.0</td>\n",
       "    </tr>\n",
       "    <tr>\n",
       "      <th>3</th>\n",
       "      <td>Albania</td>\n",
       "      <td>1987</td>\n",
       "      <td>male</td>\n",
       "      <td>75+ years</td>\n",
       "      <td>1.0</td>\n",
       "      <td>21800</td>\n",
       "      <td>2156624900</td>\n",
       "      <td>5.0</td>\n",
       "      <td>2709600</td>\n",
       "      <td>795.920025</td>\n",
       "      <td>75.0</td>\n",
       "      <td>1912.0</td>\n",
       "    </tr>\n",
       "    <tr>\n",
       "      <th>4</th>\n",
       "      <td>Albania</td>\n",
       "      <td>1987</td>\n",
       "      <td>male</td>\n",
       "      <td>25-34 years</td>\n",
       "      <td>9.0</td>\n",
       "      <td>274300</td>\n",
       "      <td>2156624900</td>\n",
       "      <td>4.0</td>\n",
       "      <td>2709600</td>\n",
       "      <td>795.920025</td>\n",
       "      <td>25.0</td>\n",
       "      <td>1962.0</td>\n",
       "    </tr>\n",
       "    <tr>\n",
       "      <th>...</th>\n",
       "      <td>...</td>\n",
       "      <td>...</td>\n",
       "      <td>...</td>\n",
       "      <td>...</td>\n",
       "      <td>...</td>\n",
       "      <td>...</td>\n",
       "      <td>...</td>\n",
       "      <td>...</td>\n",
       "      <td>...</td>\n",
       "      <td>...</td>\n",
       "      <td>...</td>\n",
       "      <td>...</td>\n",
       "    </tr>\n",
       "    <tr>\n",
       "      <th>27815</th>\n",
       "      <td>Uzbekistan</td>\n",
       "      <td>2014</td>\n",
       "      <td>female</td>\n",
       "      <td>35-54 years</td>\n",
       "      <td>17.0</td>\n",
       "      <td>3620833</td>\n",
       "      <td>63067077179</td>\n",
       "      <td>1.0</td>\n",
       "      <td>27313507</td>\n",
       "      <td>2309.006939</td>\n",
       "      <td>35.0</td>\n",
       "      <td>1979.0</td>\n",
       "    </tr>\n",
       "    <tr>\n",
       "      <th>27816</th>\n",
       "      <td>Uzbekistan</td>\n",
       "      <td>2014</td>\n",
       "      <td>female</td>\n",
       "      <td>75+ years</td>\n",
       "      <td>9.0</td>\n",
       "      <td>348465</td>\n",
       "      <td>63067077179</td>\n",
       "      <td>3.0</td>\n",
       "      <td>27313507</td>\n",
       "      <td>2309.006939</td>\n",
       "      <td>75.0</td>\n",
       "      <td>1939.0</td>\n",
       "    </tr>\n",
       "    <tr>\n",
       "      <th>27817</th>\n",
       "      <td>Uzbekistan</td>\n",
       "      <td>2014</td>\n",
       "      <td>male</td>\n",
       "      <td>5-14 years</td>\n",
       "      <td>6.0</td>\n",
       "      <td>2762158</td>\n",
       "      <td>63067077179</td>\n",
       "      <td>1.0</td>\n",
       "      <td>27313507</td>\n",
       "      <td>2309.006939</td>\n",
       "      <td>5.0</td>\n",
       "      <td>2009.0</td>\n",
       "    </tr>\n",
       "    <tr>\n",
       "      <th>27818</th>\n",
       "      <td>Uzbekistan</td>\n",
       "      <td>2014</td>\n",
       "      <td>female</td>\n",
       "      <td>5-14 years</td>\n",
       "      <td>44.0</td>\n",
       "      <td>2631600</td>\n",
       "      <td>63067077179</td>\n",
       "      <td>2.0</td>\n",
       "      <td>27313507</td>\n",
       "      <td>2309.006939</td>\n",
       "      <td>5.0</td>\n",
       "      <td>2009.0</td>\n",
       "    </tr>\n",
       "    <tr>\n",
       "      <th>27819</th>\n",
       "      <td>Uzbekistan</td>\n",
       "      <td>2014</td>\n",
       "      <td>female</td>\n",
       "      <td>55-74 years</td>\n",
       "      <td>21.0</td>\n",
       "      <td>1438935</td>\n",
       "      <td>63067077179</td>\n",
       "      <td>2.0</td>\n",
       "      <td>27313507</td>\n",
       "      <td>2309.006939</td>\n",
       "      <td>55.0</td>\n",
       "      <td>1959.0</td>\n",
       "    </tr>\n",
       "  </tbody>\n",
       "</table>\n",
       "<p>27820 rows × 12 columns</p>\n",
       "</div>"
      ],
      "text/plain": [
       "          country  year     sex          age  suicides_no  population  \\\n",
       "0         Albania  1987    male  15-24 years         21.0      312900   \n",
       "1         Albania  1987    male  35-54 years         16.0      308000   \n",
       "2         Albania  1987  female  15-24 years         14.0      289700   \n",
       "3         Albania  1987    male    75+ years          1.0       21800   \n",
       "4         Albania  1987    male  25-34 years          9.0      274300   \n",
       "...           ...   ...     ...          ...          ...         ...   \n",
       "27815  Uzbekistan  2014  female  35-54 years         17.0     3620833   \n",
       "27816  Uzbekistan  2014  female    75+ years          9.0      348465   \n",
       "27817  Uzbekistan  2014    male   5-14 years          6.0     2762158   \n",
       "27818  Uzbekistan  2014  female   5-14 years         44.0     2631600   \n",
       "27819  Uzbekistan  2014  female  55-74 years         21.0     1438935   \n",
       "\n",
       "       Gdp_per_yr_usd  suicides/100k  PopulationByYear  gdp_per_capita  \\\n",
       "0          2156624900            7.0           2709600      795.920025   \n",
       "1          2156624900            6.0           2709600      795.920025   \n",
       "2          2156624900            5.0           2709600      795.920025   \n",
       "3          2156624900            5.0           2709600      795.920025   \n",
       "4          2156624900            4.0           2709600      795.920025   \n",
       "...               ...            ...               ...             ...   \n",
       "27815     63067077179            1.0          27313507     2309.006939   \n",
       "27816     63067077179            3.0          27313507     2309.006939   \n",
       "27817     63067077179            1.0          27313507     2309.006939   \n",
       "27818     63067077179            2.0          27313507     2309.006939   \n",
       "27819     63067077179            2.0          27313507     2309.006939   \n",
       "\n",
       "       age_lower  BirthYear  \n",
       "0           15.0     1972.0  \n",
       "1           35.0     1952.0  \n",
       "2           15.0     1972.0  \n",
       "3           75.0     1912.0  \n",
       "4           25.0     1962.0  \n",
       "...          ...        ...  \n",
       "27815       35.0     1979.0  \n",
       "27816       75.0     1939.0  \n",
       "27817        5.0     2009.0  \n",
       "27818        5.0     2009.0  \n",
       "27819       55.0     1959.0  \n",
       "\n",
       "[27820 rows x 12 columns]"
      ]
     },
     "execution_count": 106,
     "metadata": {},
     "output_type": "execute_result"
    }
   ],
   "source": [
    "a = 'age'\n",
    "ages = [ Suicide_Data['age'] == '15-24 years', Suicide_Data['age'] == '35-54 years', Suicide_Data['age'] == '75+ years', Suicide_Data['age'] == '25-34 years',Suicide_Data['age'] == '55-74 years',Suicide_Data['age'] == '5-14 years' ]\n",
    "lowerAge = [ 15, 35, 75, 25, 55, 5 ]\n",
    "    \n",
    "Suicide_Data[\"age_lower\"] = np.select(ages, lowerAge, default=np.nan)\n",
    "\n",
    "Suicide_Data[\"BirthYear\"] = Suicide_Data['year'] - Suicide_Data['age_lower']\n",
    "\n",
    "Suicide_Data\n"
   ]
  },
  {
   "cell_type": "markdown",
   "id": "a7929f7a",
   "metadata": {},
   "source": [
    "# Adding a new column “generation” and fill up its data according"
   ]
  },
  {
   "cell_type": "code",
   "execution_count": 107,
   "id": "b2d661b7",
   "metadata": {},
   "outputs": [],
   "source": [
    "generations = {'Lost Generation': (1883, 1900),'G.I. Generation': (1901, 1927),'Silent': (1928, 1945),'Boomers': (1946, 1964),'Generation X': (1965, 1980), 'Millennials': (1981, 1996), 'Generation Z': (1997, 2012),'Generation A': (2013, 2025)}\n",
    "\n",
    "# Create a new column named \"generation\" filled with NaN values\n",
    "Suicide_Data['generation'] = np.nan\n",
    "\n",
    "# Filling up \"generation\" column based on the 'BirthYear' of each row\n",
    "for index, row in Suicide_Data.iterrows():\n",
    "    for generation, value in generations.items():\n",
    "        if value[0]<= row['BirthYear']<= value[1]:\n",
    "            Suicide_Data.at[index,'generation'] = generation"
   ]
  },
  {
   "cell_type": "code",
   "execution_count": 108,
   "id": "29a6a504",
   "metadata": {},
   "outputs": [
    {
     "data": {
      "text/html": [
       "<div>\n",
       "<style scoped>\n",
       "    .dataframe tbody tr th:only-of-type {\n",
       "        vertical-align: middle;\n",
       "    }\n",
       "\n",
       "    .dataframe tbody tr th {\n",
       "        vertical-align: top;\n",
       "    }\n",
       "\n",
       "    .dataframe thead th {\n",
       "        text-align: right;\n",
       "    }\n",
       "</style>\n",
       "<table border=\"1\" class=\"dataframe\">\n",
       "  <thead>\n",
       "    <tr style=\"text-align: right;\">\n",
       "      <th></th>\n",
       "      <th>country</th>\n",
       "      <th>year</th>\n",
       "      <th>sex</th>\n",
       "      <th>age</th>\n",
       "      <th>suicides_no</th>\n",
       "      <th>population</th>\n",
       "      <th>Gdp_per_yr_usd</th>\n",
       "      <th>suicides/100k</th>\n",
       "      <th>PopulationByYear</th>\n",
       "      <th>gdp_per_capita</th>\n",
       "      <th>age_lower</th>\n",
       "      <th>BirthYear</th>\n",
       "      <th>generation</th>\n",
       "    </tr>\n",
       "  </thead>\n",
       "  <tbody>\n",
       "    <tr>\n",
       "      <th>0</th>\n",
       "      <td>Albania</td>\n",
       "      <td>1987</td>\n",
       "      <td>male</td>\n",
       "      <td>15-24 years</td>\n",
       "      <td>21.0</td>\n",
       "      <td>312900</td>\n",
       "      <td>2156624900</td>\n",
       "      <td>7.0</td>\n",
       "      <td>2709600</td>\n",
       "      <td>795.920025</td>\n",
       "      <td>15.0</td>\n",
       "      <td>1972.0</td>\n",
       "      <td>Generation X</td>\n",
       "    </tr>\n",
       "    <tr>\n",
       "      <th>1</th>\n",
       "      <td>Albania</td>\n",
       "      <td>1987</td>\n",
       "      <td>male</td>\n",
       "      <td>35-54 years</td>\n",
       "      <td>16.0</td>\n",
       "      <td>308000</td>\n",
       "      <td>2156624900</td>\n",
       "      <td>6.0</td>\n",
       "      <td>2709600</td>\n",
       "      <td>795.920025</td>\n",
       "      <td>35.0</td>\n",
       "      <td>1952.0</td>\n",
       "      <td>Boomers</td>\n",
       "    </tr>\n",
       "    <tr>\n",
       "      <th>2</th>\n",
       "      <td>Albania</td>\n",
       "      <td>1987</td>\n",
       "      <td>female</td>\n",
       "      <td>15-24 years</td>\n",
       "      <td>14.0</td>\n",
       "      <td>289700</td>\n",
       "      <td>2156624900</td>\n",
       "      <td>5.0</td>\n",
       "      <td>2709600</td>\n",
       "      <td>795.920025</td>\n",
       "      <td>15.0</td>\n",
       "      <td>1972.0</td>\n",
       "      <td>Generation X</td>\n",
       "    </tr>\n",
       "    <tr>\n",
       "      <th>3</th>\n",
       "      <td>Albania</td>\n",
       "      <td>1987</td>\n",
       "      <td>male</td>\n",
       "      <td>75+ years</td>\n",
       "      <td>1.0</td>\n",
       "      <td>21800</td>\n",
       "      <td>2156624900</td>\n",
       "      <td>5.0</td>\n",
       "      <td>2709600</td>\n",
       "      <td>795.920025</td>\n",
       "      <td>75.0</td>\n",
       "      <td>1912.0</td>\n",
       "      <td>G.I. Generation</td>\n",
       "    </tr>\n",
       "    <tr>\n",
       "      <th>4</th>\n",
       "      <td>Albania</td>\n",
       "      <td>1987</td>\n",
       "      <td>male</td>\n",
       "      <td>25-34 years</td>\n",
       "      <td>9.0</td>\n",
       "      <td>274300</td>\n",
       "      <td>2156624900</td>\n",
       "      <td>4.0</td>\n",
       "      <td>2709600</td>\n",
       "      <td>795.920025</td>\n",
       "      <td>25.0</td>\n",
       "      <td>1962.0</td>\n",
       "      <td>Boomers</td>\n",
       "    </tr>\n",
       "    <tr>\n",
       "      <th>...</th>\n",
       "      <td>...</td>\n",
       "      <td>...</td>\n",
       "      <td>...</td>\n",
       "      <td>...</td>\n",
       "      <td>...</td>\n",
       "      <td>...</td>\n",
       "      <td>...</td>\n",
       "      <td>...</td>\n",
       "      <td>...</td>\n",
       "      <td>...</td>\n",
       "      <td>...</td>\n",
       "      <td>...</td>\n",
       "      <td>...</td>\n",
       "    </tr>\n",
       "    <tr>\n",
       "      <th>27815</th>\n",
       "      <td>Uzbekistan</td>\n",
       "      <td>2014</td>\n",
       "      <td>female</td>\n",
       "      <td>35-54 years</td>\n",
       "      <td>17.0</td>\n",
       "      <td>3620833</td>\n",
       "      <td>63067077179</td>\n",
       "      <td>1.0</td>\n",
       "      <td>27313507</td>\n",
       "      <td>2309.006939</td>\n",
       "      <td>35.0</td>\n",
       "      <td>1979.0</td>\n",
       "      <td>Generation X</td>\n",
       "    </tr>\n",
       "    <tr>\n",
       "      <th>27816</th>\n",
       "      <td>Uzbekistan</td>\n",
       "      <td>2014</td>\n",
       "      <td>female</td>\n",
       "      <td>75+ years</td>\n",
       "      <td>9.0</td>\n",
       "      <td>348465</td>\n",
       "      <td>63067077179</td>\n",
       "      <td>3.0</td>\n",
       "      <td>27313507</td>\n",
       "      <td>2309.006939</td>\n",
       "      <td>75.0</td>\n",
       "      <td>1939.0</td>\n",
       "      <td>Silent</td>\n",
       "    </tr>\n",
       "    <tr>\n",
       "      <th>27817</th>\n",
       "      <td>Uzbekistan</td>\n",
       "      <td>2014</td>\n",
       "      <td>male</td>\n",
       "      <td>5-14 years</td>\n",
       "      <td>6.0</td>\n",
       "      <td>2762158</td>\n",
       "      <td>63067077179</td>\n",
       "      <td>1.0</td>\n",
       "      <td>27313507</td>\n",
       "      <td>2309.006939</td>\n",
       "      <td>5.0</td>\n",
       "      <td>2009.0</td>\n",
       "      <td>Generation Z</td>\n",
       "    </tr>\n",
       "    <tr>\n",
       "      <th>27818</th>\n",
       "      <td>Uzbekistan</td>\n",
       "      <td>2014</td>\n",
       "      <td>female</td>\n",
       "      <td>5-14 years</td>\n",
       "      <td>44.0</td>\n",
       "      <td>2631600</td>\n",
       "      <td>63067077179</td>\n",
       "      <td>2.0</td>\n",
       "      <td>27313507</td>\n",
       "      <td>2309.006939</td>\n",
       "      <td>5.0</td>\n",
       "      <td>2009.0</td>\n",
       "      <td>Generation Z</td>\n",
       "    </tr>\n",
       "    <tr>\n",
       "      <th>27819</th>\n",
       "      <td>Uzbekistan</td>\n",
       "      <td>2014</td>\n",
       "      <td>female</td>\n",
       "      <td>55-74 years</td>\n",
       "      <td>21.0</td>\n",
       "      <td>1438935</td>\n",
       "      <td>63067077179</td>\n",
       "      <td>2.0</td>\n",
       "      <td>27313507</td>\n",
       "      <td>2309.006939</td>\n",
       "      <td>55.0</td>\n",
       "      <td>1959.0</td>\n",
       "      <td>Boomers</td>\n",
       "    </tr>\n",
       "  </tbody>\n",
       "</table>\n",
       "<p>27820 rows × 13 columns</p>\n",
       "</div>"
      ],
      "text/plain": [
       "          country  year     sex          age  suicides_no  population  \\\n",
       "0         Albania  1987    male  15-24 years         21.0      312900   \n",
       "1         Albania  1987    male  35-54 years         16.0      308000   \n",
       "2         Albania  1987  female  15-24 years         14.0      289700   \n",
       "3         Albania  1987    male    75+ years          1.0       21800   \n",
       "4         Albania  1987    male  25-34 years          9.0      274300   \n",
       "...           ...   ...     ...          ...          ...         ...   \n",
       "27815  Uzbekistan  2014  female  35-54 years         17.0     3620833   \n",
       "27816  Uzbekistan  2014  female    75+ years          9.0      348465   \n",
       "27817  Uzbekistan  2014    male   5-14 years          6.0     2762158   \n",
       "27818  Uzbekistan  2014  female   5-14 years         44.0     2631600   \n",
       "27819  Uzbekistan  2014  female  55-74 years         21.0     1438935   \n",
       "\n",
       "       Gdp_per_yr_usd  suicides/100k  PopulationByYear  gdp_per_capita  \\\n",
       "0          2156624900            7.0           2709600      795.920025   \n",
       "1          2156624900            6.0           2709600      795.920025   \n",
       "2          2156624900            5.0           2709600      795.920025   \n",
       "3          2156624900            5.0           2709600      795.920025   \n",
       "4          2156624900            4.0           2709600      795.920025   \n",
       "...               ...            ...               ...             ...   \n",
       "27815     63067077179            1.0          27313507     2309.006939   \n",
       "27816     63067077179            3.0          27313507     2309.006939   \n",
       "27817     63067077179            1.0          27313507     2309.006939   \n",
       "27818     63067077179            2.0          27313507     2309.006939   \n",
       "27819     63067077179            2.0          27313507     2309.006939   \n",
       "\n",
       "       age_lower  BirthYear       generation  \n",
       "0           15.0     1972.0     Generation X  \n",
       "1           35.0     1952.0          Boomers  \n",
       "2           15.0     1972.0     Generation X  \n",
       "3           75.0     1912.0  G.I. Generation  \n",
       "4           25.0     1962.0          Boomers  \n",
       "...          ...        ...              ...  \n",
       "27815       35.0     1979.0     Generation X  \n",
       "27816       75.0     1939.0           Silent  \n",
       "27817        5.0     2009.0     Generation Z  \n",
       "27818        5.0     2009.0     Generation Z  \n",
       "27819       55.0     1959.0          Boomers  \n",
       "\n",
       "[27820 rows x 13 columns]"
      ]
     },
     "execution_count": 108,
     "metadata": {},
     "output_type": "execute_result"
    }
   ],
   "source": [
    "Suicide_Data"
   ]
  },
  {
   "cell_type": "markdown",
   "id": "46d8446a",
   "metadata": {},
   "source": [
    "# Calculating correlations between suicides, GDP per capita and population"
   ]
  },
  {
   "cell_type": "code",
   "execution_count": 109,
   "id": "6250a91a",
   "metadata": {},
   "outputs": [
    {
     "name": "stdout",
     "output_type": "stream",
     "text": [
      "                suicides_no  gdp_per_capita  population\n",
      "suicides_no        1.000000        0.060545    0.545661\n",
      "gdp_per_capita     0.060545        1.000000    0.081049\n",
      "population         0.545661        0.081049    1.000000\n"
     ]
    }
   ],
   "source": [
    "#Calculating correlations between the below columns\n",
    "C = Suicide_Data[['suicides_no','gdp_per_capita','population']].corr()\n",
    "print(C)   "
   ]
  },
  {
   "cell_type": "code",
   "execution_count": 110,
   "id": "6a746ace",
   "metadata": {},
   "outputs": [],
   "source": [
    "#To represent correlation in graphical foramt i'm using heat map here\n",
    "data_corr = Suicide_Data[['suicides_no','gdp_per_capita', 'population']]"
   ]
  },
  {
   "cell_type": "markdown",
   "id": "ff158aac",
   "metadata": {},
   "source": [
    "# Creating a heatmap for correlations"
   ]
  },
  {
   "cell_type": "code",
   "execution_count": 111,
   "id": "6cc84a1d",
   "metadata": {},
   "outputs": [],
   "source": [
    "#imporitng libraries \n",
    "import seaborn as sns\n",
    "import matplotlib.pyplot as plt"
   ]
  },
  {
   "cell_type": "code",
   "execution_count": 112,
   "id": "09486782",
   "metadata": {},
   "outputs": [
    {
     "data": {
      "image/png": "[encoded data removed]",
      "text/plain": [
       "<Figure size 640x480 with 2 Axes>"
      ]
     },
     "metadata": {},
     "output_type": "display_data"
    }
   ],
   "source": [
    "#Creating heatmap\n",
    "sns.heatmap(C, annot=True, cmap='coolwarm')\n",
    "plt.show()"
   ]
  },
  {
   "cell_type": "markdown",
   "id": "828561d2",
   "metadata": {},
   "source": [
    "# Scatter plots for each pair of variables"
   ]
  },
  {
   "cell_type": "markdown",
   "id": "bf352cce",
   "metadata": {},
   "source": [
    "Creating a scatter plot matrix which shows all possible pairs of variables."
   ]
  },
  {
   "cell_type": "code",
   "execution_count": 113,
   "id": "df3ee1d1",
   "metadata": {},
   "outputs": [
    {
     "data": {
      "image/png": "[encoded data removed]",
      "text/plain": [
       "<Figure size 750x750 with 12 Axes>"
      ]
     },
     "metadata": {},
     "output_type": "display_data"
    }
   ],
   "source": [
    "sns.pairplot(Suicide_Data[['suicides_no', 'gdp_per_capita', 'population']])\n",
    "plt.show()"
   ]
  },
  {
   "cell_type": "markdown",
   "id": "bb247a0d",
   "metadata": {},
   "source": [
    "# visualise total suicides over years"
   ]
  },
  {
   "cell_type": "markdown",
   "id": "90859109",
   "metadata": {},
   "source": [
    "Creating a new dataFrame with the total suicides over year\n",
    "For that we will groupby 'year' and 'suicides_no' is summed up. \n",
    "DataFrame has 'year' and 'suicides_no' which contains the total number of suicides per each year"
   ]
  },
  {
   "cell_type": "code",
   "execution_count": 114,
   "id": "61a2b64f",
   "metadata": {},
   "outputs": [],
   "source": [
    "SuicidesPerYear = Suicide_Data.groupby('year')['suicides_no'].sum().reset_index()"
   ]
  },
  {
   "cell_type": "code",
   "execution_count": 115,
   "id": "760a04f1",
   "metadata": {},
   "outputs": [
    {
     "data": {
      "image/png": "[encoded data removed]",
      "text/plain": [
       "<Figure size 640x480 with 1 Axes>"
      ]
     },
     "metadata": {},
     "output_type": "display_data"
    }
   ],
   "source": [
    "import matplotlib.pyplot as plt\n",
    "\n",
    "plt.fill_between(SuicidesPerYear['year'], SuicidesPerYear['suicides_no'])\n",
    "plt.xlabel('Year')\n",
    "plt.ylabel('Total Suicides')\n",
    "plt.title('Total Suicides Over the Years')\n",
    "\n",
    "plt.show()"
   ]
  },
  {
   "cell_type": "markdown",
   "id": "a821afe5",
   "metadata": {},
   "source": [
    "# Compare suicides by gender over years"
   ]
  },
  {
   "cell_type": "code",
   "execution_count": 116,
   "id": "6693fc06",
   "metadata": {},
   "outputs": [],
   "source": [
    "###Interactive visualisation\n",
    "import plotly.graph_objs as go\n",
    "import plotly.express as px"
   ]
  },
  {
   "cell_type": "code",
   "execution_count": 117,
   "id": "9ba673b6",
   "metadata": {},
   "outputs": [],
   "source": [
    "#Creating a new DataFrame with total no.of suicides by gender and year\n",
    "Gender_Year = Suicide_Data.groupby(['year', 'sex'])['suicides_no'].sum().reset_index()"
   ]
  },
  {
   "cell_type": "code",
   "execution_count": 120,
   "id": "2b5d2d29",
   "metadata": {},
   "outputs": [
    {
     "data": {
      "application/vnd.plotly.v1+json": {
       "config": {
        "plotlyServerURL": "https://plot.ly"
       },
       "data": [
        {
         "hovertemplate": "sex=female<br>suicides_no=%{x}<br>year=%{y}<extra></extra>",
         "legendgroup": "female",
         "line": {
          "color": "#636efa",
          "dash": "solid"
         },
         "marker": {
          "symbol": "circle"
         },
         "mode": "lines",
         "name": "female",
         "orientation": "v",
         "showlegend": true,
         "type": "scatter",
         "x": [
          27506,
          28271,
          29202,
          25248,
          33369,
          36771,
          40855,
          43051,
          45108,
          45063,
          46421,
          46135,
          41148,
          44679,
          42547,
          45371,
          41371,
          42489,
          42608,
          41878,
          41465,
          45977,
          42871,
          44177,
          41475,
          33992,
          46422,
          48208,
          42055,
          41987,
          31585,
          3074
         ],
         "xaxis": "x",
         "y": [
          1985,
          1986,
          1987,
          1988,
          1989,
          1990,
          1991,
          1992,
          1993,
          1994,
          1995,
          1996,
          1997,
          1998,
          1999,
          2000,
          2001,
          2002,
          2003,
          2004,
          2005,
          2006,
          2007,
          2008,
          2009,
          2010,
          2011,
          2012,
          2013,
          2014,
          2015,
          2016
         ],
         "yaxis": "y"
        },
        {
         "hovertemplate": "sex=male<br>suicides_no=%{x}<br>year=%{y}<extra></extra>",
         "legendgroup": "male",
         "line": {
          "color": "#EF553B",
          "dash": "solid"
         },
         "marker": {
          "symbol": "circle"
         },
         "mode": "lines",
         "name": "male",
         "orientation": "v",
         "showlegend": true,
         "type": "scatter",
         "x": [
          62132,
          60134,
          72931,
          70094,
          87809,
          95929,
          119254,
          118935,
          122617,
          155486,
          138115,
          130989,
          140547,
          145325,
          124281,
          145119,
          159060,
          135034,
          155946,
          151367,
          123937,
          139620,
          129404,
          150272,
          161061,
          147391,
          153315,
          134342,
          131952,
          121975,
          126514,
          10802
         ],
         "xaxis": "x",
         "y": [
          1985,
          1986,
          1987,
          1988,
          1989,
          1990,
          1991,
          1992,
          1993,
          1994,
          1995,
          1996,
          1997,
          1998,
          1999,
          2000,
          2001,
          2002,
          2003,
          2004,
          2005,
          2006,
          2007,
          2008,
          2009,
          2010,
          2011,
          2012,
          2013,
          2014,
          2015,
          2016
         ],
         "yaxis": "y"
        }
       ],
       "layout": {
        "legend": {
         "title": {
          "text": "sex"
         },
         "tracegroupgap": 0
        },
        "margin": {
         "t": 60
        },
        "template": {
         "data": {
          "bar": [
           {
            "error_x": {
             "color": "#2a3f5f"
            },
            "error_y": {
             "color": "#2a3f5f"
            },
            "marker": {
             "line": {
              "color": "#E5ECF6",
              "width": 0.5
             },
             "pattern": {
              "fillmode": "overlay",
              "size": 10,
              "solidity": 0.2
             }
            },
            "type": "bar"
           }
          ],
          "barpolar": [
           {
            "marker": {
             "line": {
              "color": "#E5ECF6",
              "width": 0.5
             },
             "pattern": {
              "fillmode": "overlay",
              "size": 10,
              "solidity": 0.2
             }
            },
            "type": "barpolar"
           }
          ],
          "carpet": [
           {
            "aaxis": {
             "endlinecolor": "#2a3f5f",
             "gridcolor": "white",
             "linecolor": "white",
             "minorgridcolor": "white",
             "startlinecolor": "#2a3f5f"
            },
            "baxis": {
             "endlinecolor": "#2a3f5f",
             "gridcolor": "white",
             "linecolor": "white",
             "minorgridcolor": "white",
             "startlinecolor": "#2a3f5f"
            },
            "type": "carpet"
           }
          ],
          "choropleth": [
           {
            "colorbar": {
             "outlinewidth": 0,
             "ticks": ""
            },
            "type": "choropleth"
           }
          ],
          "contour": [
           {
            "colorbar": {
             "outlinewidth": 0,
             "ticks": ""
            },
            "colorscale": [
             [
              0,
              "#0d0887"
             ],
             [
              0.1111111111111111,
              "#46039f"
             ],
             [
              0.2222222222222222,
              "#7201a8"
             ],
             [
              0.3333333333333333,
              "#9c179e"
             ],
             [
              0.4444444444444444,
              "#bd3786"
             ],
             [
              0.5555555555555556,
              "#d8576b"
             ],
             [
              0.6666666666666666,
              "#ed7953"
             ],
             [
              0.7777777777777778,
              "#fb9f3a"
             ],
             [
              0.8888888888888888,
              "#fdca26"
             ],
             [
              1,
              "#f0f921"
             ]
            ],
            "type": "contour"
           }
          ],
          "contourcarpet": [
           {
            "colorbar": {
             "outlinewidth": 0,
             "ticks": ""
            },
            "type": "contourcarpet"
           }
          ],
          "heatmap": [
           {
            "colorbar": {
             "outlinewidth": 0,
             "ticks": ""
            },
            "colorscale": [
             [
              0,
              "#0d0887"
             ],
             [
              0.1111111111111111,
              "#46039f"
             ],
             [
              0.2222222222222222,
              "#7201a8"
             ],
             [
              0.3333333333333333,
              "#9c179e"
             ],
             [
              0.4444444444444444,
              "#bd3786"
             ],
             [
              0.5555555555555556,
              "#d8576b"
             ],
             [
              0.6666666666666666,
              "#ed7953"
             ],
             [
              0.7777777777777778,
              "#fb9f3a"
             ],
             [
              0.8888888888888888,
              "#fdca26"
             ],
             [
              1,
              "#f0f921"
             ]
            ],
            "type": "heatmap"
           }
          ],
          "heatmapgl": [
           {
            "colorbar": {
             "outlinewidth": 0,
             "ticks": ""
            },
            "colorscale": [
             [
              0,
              "#0d0887"
             ],
             [
              0.1111111111111111,
              "#46039f"
             ],
             [
              0.2222222222222222,
              "#7201a8"
             ],
             [
              0.3333333333333333,
              "#9c179e"
             ],
             [
              0.4444444444444444,
              "#bd3786"
             ],
             [
              0.5555555555555556,
              "#d8576b"
             ],
             [
              0.6666666666666666,
              "#ed7953"
             ],
             [
              0.7777777777777778,
              "#fb9f3a"
             ],
             [
              0.8888888888888888,
              "#fdca26"
             ],
             [
              1,
              "#f0f921"
             ]
            ],
            "type": "heatmapgl"
           }
          ],
          "histogram": [
           {
            "marker": {
             "pattern": {
              "fillmode": "overlay",
              "size": 10,
              "solidity": 0.2
             }
            },
            "type": "histogram"
           }
          ],
          "histogram2d": [
           {
            "colorbar": {
             "outlinewidth": 0,
             "ticks": ""
            },
            "colorscale": [
             [
              0,
              "#0d0887"
             ],
             [
              0.1111111111111111,
              "#46039f"
             ],
             [
              0.2222222222222222,
              "#7201a8"
             ],
             [
              0.3333333333333333,
              "#9c179e"
             ],
             [
              0.4444444444444444,
              "#bd3786"
             ],
             [
              0.5555555555555556,
              "#d8576b"
             ],
             [
              0.6666666666666666,
              "#ed7953"
             ],
             [
              0.7777777777777778,
              "#fb9f3a"
             ],
             [
              0.8888888888888888,
              "#fdca26"
             ],
             [
              1,
              "#f0f921"
             ]
            ],
            "type": "histogram2d"
           }
          ],
          "histogram2dcontour": [
           {
            "colorbar": {
             "outlinewidth": 0,
             "ticks": ""
            },
            "colorscale": [
             [
              0,
              "#0d0887"
             ],
             [
              0.1111111111111111,
              "#46039f"
             ],
             [
              0.2222222222222222,
              "#7201a8"
             ],
             [
              0.3333333333333333,
              "#9c179e"
             ],
             [
              0.4444444444444444,
              "#bd3786"
             ],
             [
              0.5555555555555556,
              "#d8576b"
             ],
             [
              0.6666666666666666,
              "#ed7953"
             ],
             [
              0.7777777777777778,
              "#fb9f3a"
             ],
             [
              0.8888888888888888,
              "#fdca26"
             ],
             [
              1,
              "#f0f921"
             ]
            ],
            "type": "histogram2dcontour"
           }
          ],
          "mesh3d": [
           {
            "colorbar": {
             "outlinewidth": 0,
             "ticks": ""
            },
            "type": "mesh3d"
           }
          ],
          "parcoords": [
           {
            "line": {
             "colorbar": {
              "outlinewidth": 0,
              "ticks": ""
             }
            },
            "type": "parcoords"
           }
          ],
          "pie": [
           {
            "automargin": true,
            "type": "pie"
           }
          ],
          "scatter": [
           {
            "fillpattern": {
             "fillmode": "overlay",
             "size": 10,
             "solidity": 0.2
            },
            "type": "scatter"
           }
          ],
          "scatter3d": [
           {
            "line": {
             "colorbar": {
              "outlinewidth": 0,
              "ticks": ""
             }
            },
            "marker": {
             "colorbar": {
              "outlinewidth": 0,
              "ticks": ""
             }
            },
            "type": "scatter3d"
           }
          ],
          "scattercarpet": [
           {
            "marker": {
             "colorbar": {
              "outlinewidth": 0,
              "ticks": ""
             }
            },
            "type": "scattercarpet"
           }
          ],
          "scattergeo": [
           {
            "marker": {
             "colorbar": {
              "outlinewidth": 0,
              "ticks": ""
             }
            },
            "type": "scattergeo"
           }
          ],
          "scattergl": [
           {
            "marker": {
             "colorbar": {
              "outlinewidth": 0,
              "ticks": ""
             }
            },
            "type": "scattergl"
           }
          ],
          "scattermapbox": [
           {
            "marker": {
             "colorbar": {
              "outlinewidth": 0,
              "ticks": ""
             }
            },
            "type": "scattermapbox"
           }
          ],
          "scatterpolar": [
           {
            "marker": {
             "colorbar": {
              "outlinewidth": 0,
              "ticks": ""
             }
            },
            "type": "scatterpolar"
           }
          ],
          "scatterpolargl": [
           {
            "marker": {
             "colorbar": {
              "outlinewidth": 0,
              "ticks": ""
             }
            },
            "type": "scatterpolargl"
           }
          ],
          "scatterternary": [
           {
            "marker": {
             "colorbar": {
              "outlinewidth": 0,
              "ticks": ""
             }
            },
            "type": "scatterternary"
           }
          ],
          "surface": [
           {
            "colorbar": {
             "outlinewidth": 0,
             "ticks": ""
            },
            "colorscale": [
             [
              0,
              "#0d0887"
             ],
             [
              0.1111111111111111,
              "#46039f"
             ],
             [
              0.2222222222222222,
              "#7201a8"
             ],
             [
              0.3333333333333333,
              "#9c179e"
             ],
             [
              0.4444444444444444,
              "#bd3786"
             ],
             [
              0.5555555555555556,
              "#d8576b"
             ],
             [
              0.6666666666666666,
              "#ed7953"
             ],
             [
              0.7777777777777778,
              "#fb9f3a"
             ],
             [
              0.8888888888888888,
              "#fdca26"
             ],
             [
              1,
              "#f0f921"
             ]
            ],
            "type": "surface"
           }
          ],
          "table": [
           {
            "cells": {
             "fill": {
              "color": "#EBF0F8"
             },
             "line": {
              "color": "white"
             }
            },
            "header": {
             "fill": {
              "color": "#C8D4E3"
             },
             "line": {
              "color": "white"
             }
            },
            "type": "table"
           }
          ]
         },
         "layout": {
          "annotationdefaults": {
           "arrowcolor": "#2a3f5f",
           "arrowhead": 0,
           "arrowwidth": 1
          },
          "autotypenumbers": "strict",
          "coloraxis": {
           "colorbar": {
            "outlinewidth": 0,
            "ticks": ""
           }
          },
          "colorscale": {
           "diverging": [
            [
             0,
             "#8e0152"
            ],
            [
             0.1,
             "#c51b7d"
            ],
            [
             0.2,
             "#de77ae"
            ],
            [
             0.3,
             "#f1b6da"
            ],
            [
             0.4,
             "#fde0ef"
            ],
            [
             0.5,
             "#f7f7f7"
            ],
            [
             0.6,
             "#e6f5d0"
            ],
            [
             0.7,
             "#b8e186"
            ],
            [
             0.8,
             "#7fbc41"
            ],
            [
             0.9,
             "#4d9221"
            ],
            [
             1,
             "#276419"
            ]
           ],
           "sequential": [
            [
             0,
             "#0d0887"
            ],
            [
             0.1111111111111111,
             "#46039f"
            ],
            [
             0.2222222222222222,
             "#7201a8"
            ],
            [
             0.3333333333333333,
             "#9c179e"
            ],
            [
             0.4444444444444444,
             "#bd3786"
            ],
            [
             0.5555555555555556,
             "#d8576b"
            ],
            [
             0.6666666666666666,
             "#ed7953"
            ],
            [
             0.7777777777777778,
             "#fb9f3a"
            ],
            [
             0.8888888888888888,
             "#fdca26"
            ],
            [
             1,
             "#f0f921"
            ]
           ],
           "sequentialminus": [
            [
             0,
             "#0d0887"
            ],
            [
             0.1111111111111111,
             "#46039f"
            ],
            [
             0.2222222222222222,
             "#7201a8"
            ],
            [
             0.3333333333333333,
             "#9c179e"
            ],
            [
             0.4444444444444444,
             "#bd3786"
            ],
            [
             0.5555555555555556,
             "#d8576b"
            ],
            [
             0.6666666666666666,
             "#ed7953"
            ],
            [
             0.7777777777777778,
             "#fb9f3a"
            ],
            [
             0.8888888888888888,
             "#fdca26"
            ],
            [
             1,
             "#f0f921"
            ]
           ]
          },
          "colorway": [
           "#636efa",
           "#EF553B",
           "#00cc96",
           "#ab63fa",
           "#FFA15A",
           "#19d3f3",
           "#FF6692",
           "#B6E880",
           "#FF97FF",
           "#FECB52"
          ],
          "font": {
           "color": "#2a3f5f"
          },
          "geo": {
           "bgcolor": "white",
           "lakecolor": "white",
           "landcolor": "#E5ECF6",
           "showlakes": true,
           "showland": true,
           "subunitcolor": "white"
          },
          "hoverlabel": {
           "align": "left"
          },
          "hovermode": "closest",
          "mapbox": {
           "style": "light"
          },
          "paper_bgcolor": "white",
          "plot_bgcolor": "#E5ECF6",
          "polar": {
           "angularaxis": {
            "gridcolor": "white",
            "linecolor": "white",
            "ticks": ""
           },
           "bgcolor": "#E5ECF6",
           "radialaxis": {
            "gridcolor": "white",
            "linecolor": "white",
            "ticks": ""
           }
          },
          "scene": {
           "xaxis": {
            "backgroundcolor": "#E5ECF6",
            "gridcolor": "white",
            "gridwidth": 2,
            "linecolor": "white",
            "showbackground": true,
            "ticks": "",
            "zerolinecolor": "white"
           },
           "yaxis": {
            "backgroundcolor": "#E5ECF6",
            "gridcolor": "white",
            "gridwidth": 2,
            "linecolor": "white",
            "showbackground": true,
            "ticks": "",
            "zerolinecolor": "white"
           },
           "zaxis": {
            "backgroundcolor": "#E5ECF6",
            "gridcolor": "white",
            "gridwidth": 2,
            "linecolor": "white",
            "showbackground": true,
            "ticks": "",
            "zerolinecolor": "white"
           }
          },
          "shapedefaults": {
           "line": {
            "color": "#2a3f5f"
           }
          },
          "ternary": {
           "aaxis": {
            "gridcolor": "white",
            "linecolor": "white",
            "ticks": ""
           },
           "baxis": {
            "gridcolor": "white",
            "linecolor": "white",
            "ticks": ""
           },
           "bgcolor": "#E5ECF6",
           "caxis": {
            "gridcolor": "white",
            "linecolor": "white",
            "ticks": ""
           }
          },
          "title": {
           "x": 0.05
          },
          "xaxis": {
           "automargin": true,
           "gridcolor": "white",
           "linecolor": "white",
           "ticks": "",
           "title": {
            "standoff": 15
           },
           "zerolinecolor": "white",
           "zerolinewidth": 2
          },
          "yaxis": {
           "automargin": true,
           "gridcolor": "white",
           "linecolor": "white",
           "ticks": "",
           "title": {
            "standoff": 15
           },
           "zerolinecolor": "white",
           "zerolinewidth": 2
          }
         }
        },
        "title": {
         "text": "Total Suicides by Gender & Years"
        },
        "xaxis": {
         "anchor": "y",
         "domain": [
          0,
          1
         ],
         "title": {
          "text": "Total No.Of Suicides"
         }
        },
        "yaxis": {
         "anchor": "x",
         "domain": [
          0,
          1
         ],
         "title": {
          "text": "year"
         }
        }
       }
      },
      "text/html": [
       "<div>                            <div id=\"9aef1de3-c963-4901-9b06-1207769cdc52\" class=\"plotly-graph-div\" style=\"height:525px; width:100%;\"></div>            <script type=\"text/javascript\">                require([\"plotly\"], function(Plotly) {                    window.PLOTLYENV=window.PLOTLYENV || {};                                    if (document.getElementById(\"9aef1de3-c963-4901-9b06-1207769cdc52\")) {                    Plotly.newPlot(                        \"9aef1de3-c963-4901-9b06-1207769cdc52\",                        [{\"hovertemplate\":\"sex=female<br>suicides_no=%{x}<br>year=%{y}<extra></extra>\",\"legendgroup\":\"female\",\"line\":{\"color\":\"#636efa\",\"dash\":\"solid\"},\"marker\":{\"symbol\":\"circle\"},\"mode\":\"lines\",\"name\":\"female\",\"orientation\":\"v\",\"showlegend\":true,\"x\":[27506.0,28271.0,29202.0,25248.0,33369.0,36771.0,40855.0,43051.0,45108.0,45063.0,46421.0,46135.0,41148.0,44679.0,42547.0,45371.0,41371.0,42489.0,42608.0,41878.0,41465.0,45977.0,42871.0,44177.0,41475.0,33992.0,46422.0,48208.0,42055.0,41987.0,31585.0,3074.0],\"xaxis\":\"x\",\"y\":[1985,1986,1987,1988,1989,1990,1991,1992,1993,1994,1995,1996,1997,1998,1999,2000,2001,2002,2003,2004,2005,2006,2007,2008,2009,2010,2011,2012,2013,2014,2015,2016],\"yaxis\":\"y\",\"type\":\"scatter\"},{\"hovertemplate\":\"sex=male<br>suicides_no=%{x}<br>year=%{y}<extra></extra>\",\"legendgroup\":\"male\",\"line\":{\"color\":\"#EF553B\",\"dash\":\"solid\"},\"marker\":{\"symbol\":\"circle\"},\"mode\":\"lines\",\"name\":\"male\",\"orientation\":\"v\",\"showlegend\":true,\"x\":[62132.0,60134.0,72931.0,70094.0,87809.0,95929.0,119254.0,118935.0,122617.0,155486.0,138115.0,130989.0,140547.0,145325.0,124281.0,145119.0,159060.0,135034.0,155946.0,151367.0,123937.0,139620.0,129404.0,150272.0,161061.0,147391.0,153315.0,134342.0,131952.0,121975.0,126514.0,10802.0],\"xaxis\":\"x\",\"y\":[1985,1986,1987,1988,1989,1990,1991,1992,1993,1994,1995,1996,1997,1998,1999,2000,2001,2002,2003,2004,2005,2006,2007,2008,2009,2010,2011,2012,2013,2014,2015,2016],\"yaxis\":\"y\",\"type\":\"scatter\"}],                        {\"template\":{\"data\":{\"histogram2dcontour\":[{\"type\":\"histogram2dcontour\",\"colorbar\":{\"outlinewidth\":0,\"ticks\":\"\"},\"colorscale\":[[0.0,\"#0d0887\"],[0.1111111111111111,\"#46039f\"],[0.2222222222222222,\"#7201a8\"],[0.3333333333333333,\"#9c179e\"],[0.4444444444444444,\"#bd3786\"],[0.5555555555555556,\"#d8576b\"],[0.6666666666666666,\"#ed7953\"],[0.7777777777777778,\"#fb9f3a\"],[0.8888888888888888,\"#fdca26\"],[1.0,\"#f0f921\"]]}],\"choropleth\":[{\"type\":\"choropleth\",\"colorbar\":{\"outlinewidth\":0,\"ticks\":\"\"}}],\"histogram2d\":[{\"type\":\"histogram2d\",\"colorbar\":{\"outlinewidth\":0,\"ticks\":\"\"},\"colorscale\":[[0.0,\"#0d0887\"],[0.1111111111111111,\"#46039f\"],[0.2222222222222222,\"#7201a8\"],[0.3333333333333333,\"#9c179e\"],[0.4444444444444444,\"#bd3786\"],[0.5555555555555556,\"#d8576b\"],[0.6666666666666666,\"#ed7953\"],[0.7777777777777778,\"#fb9f3a\"],[0.8888888888888888,\"#fdca26\"],[1.0,\"#f0f921\"]]}],\"heatmap\":[{\"type\":\"heatmap\",\"colorbar\":{\"outlinewidth\":0,\"ticks\":\"\"},\"colorscale\":[[0.0,\"#0d0887\"],[0.1111111111111111,\"#46039f\"],[0.2222222222222222,\"#7201a8\"],[0.3333333333333333,\"#9c179e\"],[0.4444444444444444,\"#bd3786\"],[0.5555555555555556,\"#d8576b\"],[0.6666666666666666,\"#ed7953\"],[0.7777777777777778,\"#fb9f3a\"],[0.8888888888888888,\"#fdca26\"],[1.0,\"#f0f921\"]]}],\"heatmapgl\":[{\"type\":\"heatmapgl\",\"colorbar\":{\"outlinewidth\":0,\"ticks\":\"\"},\"colorscale\":[[0.0,\"#0d0887\"],[0.1111111111111111,\"#46039f\"],[0.2222222222222222,\"#7201a8\"],[0.3333333333333333,\"#9c179e\"],[0.4444444444444444,\"#bd3786\"],[0.5555555555555556,\"#d8576b\"],[0.6666666666666666,\"#ed7953\"],[0.7777777777777778,\"#fb9f3a\"],[0.8888888888888888,\"#fdca26\"],[1.0,\"#f0f921\"]]}],\"contourcarpet\":[{\"type\":\"contourcarpet\",\"colorbar\":{\"outlinewidth\":0,\"ticks\":\"\"}}],\"contour\":[{\"type\":\"contour\",\"colorbar\":{\"outlinewidth\":0,\"ticks\":\"\"},\"colorscale\":[[0.0,\"#0d0887\"],[0.1111111111111111,\"#46039f\"],[0.2222222222222222,\"#7201a8\"],[0.3333333333333333,\"#9c179e\"],[0.4444444444444444,\"#bd3786\"],[0.5555555555555556,\"#d8576b\"],[0.6666666666666666,\"#ed7953\"],[0.7777777777777778,\"#fb9f3a\"],[0.8888888888888888,\"#fdca26\"],[1.0,\"#f0f921\"]]}],\"surface\":[{\"type\":\"surface\",\"colorbar\":{\"outlinewidth\":0,\"ticks\":\"\"},\"colorscale\":[[0.0,\"#0d0887\"],[0.1111111111111111,\"#46039f\"],[0.2222222222222222,\"#7201a8\"],[0.3333333333333333,\"#9c179e\"],[0.4444444444444444,\"#bd3786\"],[0.5555555555555556,\"#d8576b\"],[0.6666666666666666,\"#ed7953\"],[0.7777777777777778,\"#fb9f3a\"],[0.8888888888888888,\"#fdca26\"],[1.0,\"#f0f921\"]]}],\"mesh3d\":[{\"type\":\"mesh3d\",\"colorbar\":{\"outlinewidth\":0,\"ticks\":\"\"}}],\"scatter\":[{\"fillpattern\":{\"fillmode\":\"overlay\",\"size\":10,\"solidity\":0.2},\"type\":\"scatter\"}],\"parcoords\":[{\"type\":\"parcoords\",\"line\":{\"colorbar\":{\"outlinewidth\":0,\"ticks\":\"\"}}}],\"scatterpolargl\":[{\"type\":\"scatterpolargl\",\"marker\":{\"colorbar\":{\"outlinewidth\":0,\"ticks\":\"\"}}}],\"bar\":[{\"error_x\":{\"color\":\"#2a3f5f\"},\"error_y\":{\"color\":\"#2a3f5f\"},\"marker\":{\"line\":{\"color\":\"#E5ECF6\",\"width\":0.5},\"pattern\":{\"fillmode\":\"overlay\",\"size\":10,\"solidity\":0.2}},\"type\":\"bar\"}],\"scattergeo\":[{\"type\":\"scattergeo\",\"marker\":{\"colorbar\":{\"outlinewidth\":0,\"ticks\":\"\"}}}],\"scatterpolar\":[{\"type\":\"scatterpolar\",\"marker\":{\"colorbar\":{\"outlinewidth\":0,\"ticks\":\"\"}}}],\"histogram\":[{\"marker\":{\"pattern\":{\"fillmode\":\"overlay\",\"size\":10,\"solidity\":0.2}},\"type\":\"histogram\"}],\"scattergl\":[{\"type\":\"scattergl\",\"marker\":{\"colorbar\":{\"outlinewidth\":0,\"ticks\":\"\"}}}],\"scatter3d\":[{\"type\":\"scatter3d\",\"line\":{\"colorbar\":{\"outlinewidth\":0,\"ticks\":\"\"}},\"marker\":{\"colorbar\":{\"outlinewidth\":0,\"ticks\":\"\"}}}],\"scattermapbox\":[{\"type\":\"scattermapbox\",\"marker\":{\"colorbar\":{\"outlinewidth\":0,\"ticks\":\"\"}}}],\"scatterternary\":[{\"type\":\"scatterternary\",\"marker\":{\"colorbar\":{\"outlinewidth\":0,\"ticks\":\"\"}}}],\"scattercarpet\":[{\"type\":\"scattercarpet\",\"marker\":{\"colorbar\":{\"outlinewidth\":0,\"ticks\":\"\"}}}],\"carpet\":[{\"aaxis\":{\"endlinecolor\":\"#2a3f5f\",\"gridcolor\":\"white\",\"linecolor\":\"white\",\"minorgridcolor\":\"white\",\"startlinecolor\":\"#2a3f5f\"},\"baxis\":{\"endlinecolor\":\"#2a3f5f\",\"gridcolor\":\"white\",\"linecolor\":\"white\",\"minorgridcolor\":\"white\",\"startlinecolor\":\"#2a3f5f\"},\"type\":\"carpet\"}],\"table\":[{\"cells\":{\"fill\":{\"color\":\"#EBF0F8\"},\"line\":{\"color\":\"white\"}},\"header\":{\"fill\":{\"color\":\"#C8D4E3\"},\"line\":{\"color\":\"white\"}},\"type\":\"table\"}],\"barpolar\":[{\"marker\":{\"line\":{\"color\":\"#E5ECF6\",\"width\":0.5},\"pattern\":{\"fillmode\":\"overlay\",\"size\":10,\"solidity\":0.2}},\"type\":\"barpolar\"}],\"pie\":[{\"automargin\":true,\"type\":\"pie\"}]},\"layout\":{\"autotypenumbers\":\"strict\",\"colorway\":[\"#636efa\",\"#EF553B\",\"#00cc96\",\"#ab63fa\",\"#FFA15A\",\"#19d3f3\",\"#FF6692\",\"#B6E880\",\"#FF97FF\",\"#FECB52\"],\"font\":{\"color\":\"#2a3f5f\"},\"hovermode\":\"closest\",\"hoverlabel\":{\"align\":\"left\"},\"paper_bgcolor\":\"white\",\"plot_bgcolor\":\"#E5ECF6\",\"polar\":{\"bgcolor\":\"#E5ECF6\",\"angularaxis\":{\"gridcolor\":\"white\",\"linecolor\":\"white\",\"ticks\":\"\"},\"radialaxis\":{\"gridcolor\":\"white\",\"linecolor\":\"white\",\"ticks\":\"\"}},\"ternary\":{\"bgcolor\":\"#E5ECF6\",\"aaxis\":{\"gridcolor\":\"white\",\"linecolor\":\"white\",\"ticks\":\"\"},\"baxis\":{\"gridcolor\":\"white\",\"linecolor\":\"white\",\"ticks\":\"\"},\"caxis\":{\"gridcolor\":\"white\",\"linecolor\":\"white\",\"ticks\":\"\"}},\"coloraxis\":{\"colorbar\":{\"outlinewidth\":0,\"ticks\":\"\"}},\"colorscale\":{\"sequential\":[[0.0,\"#0d0887\"],[0.1111111111111111,\"#46039f\"],[0.2222222222222222,\"#7201a8\"],[0.3333333333333333,\"#9c179e\"],[0.4444444444444444,\"#bd3786\"],[0.5555555555555556,\"#d8576b\"],[0.6666666666666666,\"#ed7953\"],[0.7777777777777778,\"#fb9f3a\"],[0.8888888888888888,\"#fdca26\"],[1.0,\"#f0f921\"]],\"sequentialminus\":[[0.0,\"#0d0887\"],[0.1111111111111111,\"#46039f\"],[0.2222222222222222,\"#7201a8\"],[0.3333333333333333,\"#9c179e\"],[0.4444444444444444,\"#bd3786\"],[0.5555555555555556,\"#d8576b\"],[0.6666666666666666,\"#ed7953\"],[0.7777777777777778,\"#fb9f3a\"],[0.8888888888888888,\"#fdca26\"],[1.0,\"#f0f921\"]],\"diverging\":[[0,\"#8e0152\"],[0.1,\"#c51b7d\"],[0.2,\"#de77ae\"],[0.3,\"#f1b6da\"],[0.4,\"#fde0ef\"],[0.5,\"#f7f7f7\"],[0.6,\"#e6f5d0\"],[0.7,\"#b8e186\"],[0.8,\"#7fbc41\"],[0.9,\"#4d9221\"],[1,\"#276419\"]]},\"xaxis\":{\"gridcolor\":\"white\",\"linecolor\":\"white\",\"ticks\":\"\",\"title\":{\"standoff\":15},\"zerolinecolor\":\"white\",\"automargin\":true,\"zerolinewidth\":2},\"yaxis\":{\"gridcolor\":\"white\",\"linecolor\":\"white\",\"ticks\":\"\",\"title\":{\"standoff\":15},\"zerolinecolor\":\"white\",\"automargin\":true,\"zerolinewidth\":2},\"scene\":{\"xaxis\":{\"backgroundcolor\":\"#E5ECF6\",\"gridcolor\":\"white\",\"linecolor\":\"white\",\"showbackground\":true,\"ticks\":\"\",\"zerolinecolor\":\"white\",\"gridwidth\":2},\"yaxis\":{\"backgroundcolor\":\"#E5ECF6\",\"gridcolor\":\"white\",\"linecolor\":\"white\",\"showbackground\":true,\"ticks\":\"\",\"zerolinecolor\":\"white\",\"gridwidth\":2},\"zaxis\":{\"backgroundcolor\":\"#E5ECF6\",\"gridcolor\":\"white\",\"linecolor\":\"white\",\"showbackground\":true,\"ticks\":\"\",\"zerolinecolor\":\"white\",\"gridwidth\":2}},\"shapedefaults\":{\"line\":{\"color\":\"#2a3f5f\"}},\"annotationdefaults\":{\"arrowcolor\":\"#2a3f5f\",\"arrowhead\":0,\"arrowwidth\":1},\"geo\":{\"bgcolor\":\"white\",\"landcolor\":\"#E5ECF6\",\"subunitcolor\":\"white\",\"showland\":true,\"showlakes\":true,\"lakecolor\":\"white\"},\"title\":{\"x\":0.05},\"mapbox\":{\"style\":\"light\"}}},\"xaxis\":{\"anchor\":\"y\",\"domain\":[0.0,1.0],\"title\":{\"text\":\"Total No.Of Suicides\"}},\"yaxis\":{\"anchor\":\"x\",\"domain\":[0.0,1.0],\"title\":{\"text\":\"year\"}},\"legend\":{\"title\":{\"text\":\"sex\"},\"tracegroupgap\":0},\"margin\":{\"t\":60},\"title\":{\"text\":\"Total Suicides by Gender & Years\"}},                        {\"responsive\": true}                    ).then(function(){\n",
       "                            \n",
       "var gd = document.getElementById('9aef1de3-c963-4901-9b06-1207769cdc52');\n",
       "var x = new MutationObserver(function (mutations, observer) {{\n",
       "        var display = window.getComputedStyle(gd).display;\n",
       "        if (!display || display === 'none') {{\n",
       "            console.log([gd, 'removed!']);\n",
       "            Plotly.purge(gd);\n",
       "            observer.disconnect();\n",
       "        }}\n",
       "}});\n",
       "\n",
       "// Listen for the removal of the full notebook cells\n",
       "var notebookContainer = gd.closest('#notebook-container');\n",
       "if (notebookContainer) {{\n",
       "    x.observe(notebookContainer, {childList: true});\n",
       "}}\n",
       "\n",
       "// Listen for the clearing of the current output cell\n",
       "var outputEl = gd.closest('.output');\n",
       "if (outputEl) {{\n",
       "    x.observe(outputEl, {childList: true});\n",
       "}}\n",
       "\n",
       "                        })                };                });            </script>        </div>"
      ]
     },
     "metadata": {},
     "output_type": "display_data"
    }
   ],
   "source": [
    "#Creating a line chart having separate lines for male, female \n",
    "fig = px.line(Gender_Year, y='year', x='suicides_no', color='sex')\n",
    "\n",
    "fig.update_layout(title='Total Suicides by Gender & Years', xaxis_title='Total No.Of Suicides', yaxis_title='year')\n",
    "\n",
    "fig.show()"
   ]
  },
  {
   "cell_type": "markdown",
   "id": "971e808b",
   "metadata": {},
   "source": [
    "# Calculating and Visualising suicides on generation and on age group."
   ]
  },
  {
   "cell_type": "code",
   "execution_count": 119,
   "id": "ed25176e",
   "metadata": {},
   "outputs": [
    {
     "data": {
      "image/png": "[encoded data removed]",
      "text/plain": [
       "<Figure size 1000x600 with 1 Axes>"
      ]
     },
     "metadata": {},
     "output_type": "display_data"
    }
   ],
   "source": [
    "import pandas as pd\n",
    "import matplotlib.pyplot as plt\n",
    "\n",
    "# Calculate suicides by generation and age group\n",
    "SuicidesByGenAge = Suicide_Data.groupby(['generation', 'age_lower'])['suicides_no'].sum().reset_index()\n",
    "\n",
    "# Creating a stacked bar chart of suicides by generation and age group\n",
    "fig, ax = plt.subplots(figsize=(10, 6))\n",
    "SuicidesByGenAge.pivot(index='age_lower', columns='generation', values='suicides_no').plot(kind='bar', stacked=True, ax=ax)\n",
    "\n",
    "# Chart title, axis labels\n",
    "ax.set_title('Total Suicides by Generation and Age Group (1985-2016)')\n",
    "ax.set_xlabel('Age Group')\n",
    "ax.set_ylabel('Total Suicides')\n",
    "\n",
    "plt.show()\n"
   ]
  },
  {
   "cell_type": "code",
   "execution_count": null,
   "id": "2f1ad4a6",
   "metadata": {},
   "outputs": [],
   "source": []
  },
  {
   "cell_type": "code",
   "execution_count": null,
   "id": "3a85f000",
   "metadata": {},
   "outputs": [],
   "source": []
  }
 ],
 "metadata": {
  "kernelspec": {
   "display_name": "Python 3 (ipykernel)",
   "language": "python",
   "name": "python3"
  },
  "language_info": {
   "codemirror_mode": {
    "name": "ipython",
    "version": 3
   },
   "file_extension": ".py",
   "mimetype": "text/x-python",
   "name": "python",
   "nbconvert_exporter": "python",
   "pygments_lexer": "ipython3",
   "version": "3.9.13"
  }
 },
 "nbformat": 4,
 "nbformat_minor": 5
}
